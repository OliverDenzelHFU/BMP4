{
  "cells": [
    {
      "metadata": {
        "hide_input": false,
        "slideshow": {
          "slide_type": "slide"
        }
      },
      "cell_type": "markdown",
      "source": "# Lists\nLists in python can store any combination of values in one variable. The order of the values is preserved.\nYou can declare an empty list using ```[]```. Alternatively you can declare a list prefilled with values, e.g. ```[1, 3.1415, \"Math is superb\"]```"
    },
    {
      "metadata": {
        "slideshow": {
          "slide_type": "subslide"
        }
      },
      "cell_type": "markdown",
      "source": "## Sieve of Erasthostenes\nThe sieve of erasthostenes works like this:\nYou have a list of numbers. You start with the number two. Then you cross off every second number starting with four. Then you continue to the first number, which is not crossed of yet (3). Then you cross of the next multiple of it up to the end of your list. Then you repeat the process for the next number, which is not crossed off yet.\n\nFor implementing it in python you create a list, which you fill with the value ```True```. If you cross off a value, you set it to ```False```.\n\nFor initialization you create an empty list, and append the value ```True``` to it.\n\nFor the crossing off part, you usually use to loops which are nested. The first loop iterated over the candidates, the second one does the crossing off."
    },
    {
      "metadata": {
        "trusted": true,
        "hide_input": false,
        "slideshow": {
          "slide_type": "subslide"
        }
      },
      "cell_type": "code",
      "source": "import math\nimport timeit\n\ndef sieve1(upperLimit=100):\n    candidates = []\n    for i in range(upperLimit):\n        candidates.append(True)\n    for i in range(2,upperLimit):\n        for j in range(i*2,upperLimit,i):\n            candidates[j]=False\n    return candidates\nresult1 = timeit.timeit(sieve1)",
      "execution_count": 1,
      "outputs": []
    },
    {
      "metadata": {
        "slideshow": {
          "slide_type": "slide"
        }
      },
      "cell_type": "markdown",
      "source": "## Optimization\nThe code above is quite slow. To improve it, wo don't test until the upper limit, we stop testing when we reach the smallest possible candidate (the square root of the upper limit). \n\nThe second thought is that you only have to check off values for primes. The other ones are already checked off. e.g. You don't have to check off the multiples of 4 or 6."
    },
    {
      "metadata": {
        "trusted": true,
        "slideshow": {
          "slide_type": "-"
        }
      },
      "cell_type": "code",
      "source": "def sieve2(upperLimit=100):\n    candidates = []\n    for i in range(upperLimit):\n        candidates.append(True)\n    lastNumberToCheck = round(math.sqrt(upperLimit))\n    for i in range (2,lastNumberToCheck):\n        if (candidates[i]):\n            for j in range(i*2,upperLimit,i):\n                candidates[j]=False\n    return candidates\nresult2 = timeit.timeit(sieve2)",
      "execution_count": 2,
      "outputs": []
    },
    {
      "metadata": {
        "slideshow": {
          "slide_type": "slide"
        }
      },
      "cell_type": "markdown",
      "source": "## Optimization 2\nOnly do the checks for odd numbers. Even numbers are checked off early."
    },
    {
      "metadata": {
        "trusted": true,
        "slideshow": {
          "slide_type": "-"
        }
      },
      "cell_type": "code",
      "source": "def sieve3(upperLimit=100):\n    candidates = []\n    for i in range(upperLimit):\n        candidates.append(True)\n    lastNumberToCheck = round(math.sqrt(upperLimit))\n    for i in range(4, upperLimit,2):\n        candidates[i]=False    \n    for i in range (3,lastNumberToCheck,2):\n        if (candidates[i]):\n            for j in range(i*2,upperLimit,i):\n                candidates[j]=False\n    return candidates\nresult3 = timeit.timeit(sieve3)",
      "execution_count": 3,
      "outputs": []
    },
    {
      "metadata": {
        "slideshow": {
          "slide_type": "slide"
        }
      },
      "cell_type": "markdown",
      "source": "## Optimization 3\nThe initialization of the list is now taking about half of the time. Multiplying the list seems to be a lot faster."
    },
    {
      "metadata": {
        "trusted": true
      },
      "cell_type": "code",
      "source": "def sieve4(upperLimit=100):\n    candidates = [True]*upperLimit\n    lastNumberToCheck = round(math.sqrt(upperLimit))\n    for i in range(4, upperLimit,2):\n        candidates[i]=False\n    for i in range (3,lastNumberToCheck,2):\n        if (candidates[i]):\n            for j in range(i*2,upperLimit,i):\n                candidates[j]=False\n    return candidates\nresult4 = timeit.timeit(sieve4)",
      "execution_count": 4,
      "outputs": []
    },
    {
      "metadata": {
        "slideshow": {
          "slide_type": "slide"
        }
      },
      "cell_type": "markdown",
      "source": "## Optimization 4\nAnother thought about optimizing can be, that you initialize the list better. Even numbers can be directly initialized with a false value."
    },
    {
      "metadata": {
        "trusted": true
      },
      "cell_type": "code",
      "source": "def sieve5(upperLimit=100):\n    candidates = [False,True]*int(upperLimit/2)\n    lastNumberToCheck = round(math.sqrt(upperLimit))\n    for i in range (3,lastNumberToCheck,2):\n        if (candidates[i]):\n            for j in range(i*2,upperLimit,i):\n                candidates[j]=False\n    return candidates\nresult5 = timeit.timeit(sieve5)",
      "execution_count": 5,
      "outputs": []
    },
    {
      "metadata": {
        "slideshow": {
          "slide_type": "slide"
        }
      },
      "cell_type": "markdown",
      "source": "## Different Algorithm\nIf you think about the implementation of the sieve a little more creatively, you can get a lot of different results.\nYou can also generate a list, which you fill with all of the numbers which are candidates. Then you remove all of the numbers which ware multiples."
    },
    {
      "metadata": {
        "trusted": true
      },
      "cell_type": "code",
      "source": "def sieve6(upperLimit=100):\n    primes = []\n    for i in range(2,upperLimit+1):\n        primes.append(i)\n\n    i = 2\n\n    while(i <= int(math.sqrt(upperLimit))):\n        if i in primes:\n            for j in range(i*2, upperLimit+1, i):\n                if j in primes:\n                    primes.remove(j)\n        i = i+1\n    return primes\nresult6 = timeit.timeit(sieve6)",
      "execution_count": 6,
      "outputs": []
    },
    {
      "metadata": {
        "slideshow": {
          "slide_type": "slide"
        }
      },
      "cell_type": "markdown",
      "source": "## Results\nOf all the implementations the different implementation is the slowest one. For 100 numbers ```sieve3``` is the fastest implementation, for bigger numbers, ```sieve5``` is the best."
    },
    {
      "metadata": {
        "slideshow": {
          "slide_type": "skip"
        }
      },
      "cell_type": "markdown",
      "source": "**Exercise**: Put all of the 6 results to a list. Print the best and worst values of the list, show the mean and the median value."
    },
    {
      "metadata": {
        "trusted": true
      },
      "cell_type": "code",
      "source": "print (f\"Original:\\t{result1}\\nOptimization1:\\t{result2}\\nOptimization2:\\t{result3}\\nOptimization3:\\t{result4}\\nOptimization4:\\t{result5}\\nDifferent:\\t{result6}\")\nresults = [result1, result2, result3, result4, result5, result6]\nimport statistics \nprint (f\"Best time: {max(results)}\\nWorst time: {min(results)}\\nAverage: {statistics.mean(results)}\")",
      "execution_count": 16,
      "outputs": [
        {
          "output_type": "stream",
          "text": "Original:\t164.9670645999995\nOptimization1:\t50.55892929999936\nOptimization2:\t48.52260230000138\nOptimization3:\t22.385744200000772\nOptimization4:\t15.840244800001528\nDifferent:\t325.1802641000013\nBest time: 325.1802641000013\nWorst time: 15.840244800001528\nAverage: 104.57580821666731\n",
          "name": "stdout"
        }
      ]
    },
    {
      "metadata": {
        "trusted": true,
        "slideshow": {
          "slide_type": "notes"
        }
      },
      "cell_type": "code",
      "source": "%timeit sieve1(1000)\n%timeit sieve2(1000)\n%timeit sieve3(1000)\n%timeit sieve4(1000)\n%timeit sieve5(1000)\n%timeit sieve6(1000)",
      "execution_count": 8,
      "outputs": [
        {
          "output_type": "stream",
          "text": "1.97 ms ± 78.6 µs per loop (mean ± std. dev. of 7 runs, 1000 loops each)\n523 µs ± 36.9 µs per loop (mean ± std. dev. of 7 runs, 1000 loops each)\n457 µs ± 30.1 µs per loop (mean ± std. dev. of 7 runs, 1000 loops each)\n290 µs ± 12.6 µs per loop (mean ± std. dev. of 7 runs, 1000 loops each)\n184 µs ± 13.3 µs per loop (mean ± std. dev. of 7 runs, 10000 loops each)\n26.6 ms ± 2.01 ms per loop (mean ± std. dev. of 7 runs, 10 loops each)\n",
          "name": "stdout"
        }
      ]
    },
    {
      "metadata": {
        "trusted": true,
        "slideshow": {
          "slide_type": "notes"
        }
      },
      "cell_type": "code",
      "source": "%timeit sieve1(10000)\n%timeit sieve2(10000)\n%timeit sieve3(10000)\n%timeit sieve4(10000)\n%timeit sieve5(10000)\n%timeit sieve6(10000)",
      "execution_count": 9,
      "outputs": [
        {
          "output_type": "stream",
          "text": "27.8 ms ± 2.46 ms per loop (mean ± std. dev. of 7 runs, 10 loops each)\n6.31 ms ± 299 µs per loop (mean ± std. dev. of 7 runs, 100 loops each)\n6.16 ms ± 232 µs per loop (mean ± std. dev. of 7 runs, 100 loops each)\n3.16 ms ± 313 µs per loop (mean ± std. dev. of 7 runs, 100 loops each)\n2.05 ms ± 132 µs per loop (mean ± std. dev. of 7 runs, 100 loops each)\n2.48 s ± 135 ms per loop (mean ± std. dev. of 7 runs, 1 loop each)\n",
          "name": "stdout"
        }
      ]
    },
    {
      "metadata": {
        "slideshow": {
          "slide_type": "slide"
        }
      },
      "cell_type": "markdown",
      "source": "# Real Live example with public data\nIn this example I got the data from the internet (https://www.europeandataportal.eu/data/datasets/http-opendata-dortmund-de-duva2ckan-1-0-6-files-de-nrw-dortmund-versorgung_mit_energie_und_wasser_seit_1994-61?locale=en). The file is just an example and of no special meaning.\n\nSpecial here is the use of the with statement. This allows us to e.g. access a file and be sure that it is closed after use.\n\nThe csv module is for reading and writing csv files (no suprise here). Using ```next``` skips the header line, using ```list``` reads in the whole file and transforms it to a list.\n\n```sorted```, ```max```and ```int``` you probably still know from the lecture about methods."
    },
    {
      "metadata": {
        "slideshow": {
          "slide_type": "skip"
        }
      },
      "cell_type": "markdown",
      "source": "**Excercise**: Calculate the median, variance and standard deviation. For an explanation of the last two:\n\nhttps://www.mathsisfun.com/data/standard-deviation.html"
    },
    {
      "metadata": {
        "trusted": true,
        "slideshow": {
          "slide_type": "subslide"
        }
      },
      "cell_type": "code",
      "source": "import csv\nfrom operator import itemgetter, attrgetter\nmaxerdgas = 0\nsumerdgas = 0\ncount = 0\nwith open('de-nrw-dortmund-versorgung_mit_energie_und_wasser_seit_1994.csv', 'r', encoding='latin1') as csvfile:\n    values = csv.reader(csvfile, delimiter=';', quotechar='\"')\n    next(values)\n    listValues = list(values)\n    listValues = sorted(listValues, key=itemgetter(1))\n    for row in listValues:\n        print (row[0],\" \", row[1])\n        currentErdgas = int(row[1])\n        maxerdgas = max(maxerdgas, currentErdgas)\n        sumerdgas += currentErdgas\n        count += 1\n        \nprint (maxerdgas, sumerdgas, sumerdgas/count)",
      "execution_count": 10,
      "outputs": [
        {
          "output_type": "stream",
          "text": "2014   4022\n2009   4462\n2000   4478\n2015   4484\n2011   4485\n2007   4490\n1999   4639\n2012   4672\n2008   4746\n2006   4766\n2001   4803\n1994   4804\n2016   4808\n2017   4838\n2013   4855\n2002   4869\n2005   4882\n1998   4942\n1997   4943\n2010   4980\n1995   5052\n2003   5109\n2004   5152\n1996   5636\n5636 114917 4788.208333333333\n",
          "name": "stdout"
        }
      ]
    }
  ],
  "metadata": {
    "kernelspec": {
      "name": "python36",
      "display_name": "Python 3.6",
      "language": "python"
    },
    "language_info": {
      "mimetype": "text/x-python",
      "nbconvert_exporter": "python",
      "name": "python",
      "pygments_lexer": "ipython3",
      "version": "3.6.6",
      "file_extension": ".py",
      "codemirror_mode": {
        "version": 3,
        "name": "ipython"
      }
    },
    "varInspector": {
      "window_display": false,
      "cols": {
        "lenName": 16,
        "lenType": 16,
        "lenVar": 40
      },
      "kernels_config": {
        "python": {
          "library": "var_list.py",
          "delete_cmd_prefix": "del ",
          "delete_cmd_postfix": "",
          "varRefreshCmd": "print(var_dic_list())"
        },
        "r": {
          "library": "var_list.r",
          "delete_cmd_prefix": "rm(",
          "delete_cmd_postfix": ") ",
          "varRefreshCmd": "cat(var_dic_list()) "
        }
      },
      "types_to_exclude": [
        "module",
        "function",
        "builtin_function_or_method",
        "instance",
        "_Feature"
      ]
    },
    "celltoolbar": "Slideshow"
  },
  "nbformat": 4,
  "nbformat_minor": 2
}