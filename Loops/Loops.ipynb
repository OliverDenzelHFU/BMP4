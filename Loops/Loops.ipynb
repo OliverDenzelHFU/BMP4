{
  "cells": [
    {
      "metadata": {},
      "cell_type": "markdown",
      "source": [
        "# Initialization, safe to ignore"
      ]
    },
    {
      "metadata": {
        "trusted": true
      },
      "cell_type": "code",
      "source": [
        "%%capture\n",
        "\n",
        "try:\n",
        "    import suntime\n",
        "except:\n",
        "    !pip install suntime\n",
        "    \n",
        "from suntime import Sun\n",
        "from datetime import datetime\n",
        "latitude = 48.0594021\n",
        "longitude = 8.4640869\n"
      ],
      "execution_count": 2,
      "outputs": []
    },
    {
      "metadata": {},
      "cell_type": "markdown",
      "source": [
        "# Conditions\n",
        "With conditions you can execute blocks based on the value of booleans. Normally the booleans are evaluated in place (e.g. variable > 100)"
      ]
    },
    {
      "metadata": {
        "trusted": true,
        "tags": []
      },
      "cell_type": "code",
      "source": [
        "#Get the sun light times for our coordinate\n",
        "sun = Sun(latitude, longitude)\n",
        "\n",
        "if datetime.now().timestamp() > sun.get_local_sunset_time().timestamp():\n",
        "    print (\"Have a nice evening!\")\n",
        "elif datetime.now().timestamp() < sun.get_local_sunrise_time().timestamp():\n",
        "    print(\"Good Morning!\")\n",
        "else:\n",
        "    print(\"Have a nice day\")"
      ],
      "execution_count": 3,
      "outputs": [
        {
          "output_type": "stream",
          "name": "stdout",
          "text": "Have a nice evening!\n"
        }
      ]
    },
    {
      "metadata": {},
      "cell_type": "markdown",
      "source": [
        "# Loops\n",
        "## General\n",
        "In python there are two different kind of loops:\n",
        "`for` an `while`\n",
        "With a `for` loop you can execute code for a fixed set of times, whereas the `while` loop allows you to execute your code more flexible.\n",
        "## For Loop"
      ]
    },
    {
      "metadata": {
        "trusted": true,
        "tags": []
      },
      "cell_type": "code",
      "source": [
        "for x in range(5):\n",
        "    print (x)"
      ],
      "execution_count": 4,
      "outputs": [
        {
          "output_type": "stream",
          "name": "stdout",
          "text": "0\n1\n2\n3\n4\n"
        }
      ]
    },
    {
      "metadata": {
        "trusted": true,
        "tags": []
      },
      "cell_type": "code",
      "source": [
        "for c in 'Hello!':\n",
        "    print (c)"
      ],
      "execution_count": 5,
      "outputs": [
        {
          "output_type": "stream",
          "name": "stdout",
          "text": "H\ne\nl\nl\no\n!\n"
        }
      ]
    },
    {
      "metadata": {
        "trusted": true,
        "tags": []
      },
      "cell_type": "code",
      "source": [
        "for x in (0, 10, 21, 33):\n",
        "    print (x)"
      ],
      "execution_count": 6,
      "outputs": [
        {
          "output_type": "stream",
          "name": "stdout",
          "text": "0\n10\n21\n33\n"
        }
      ]
    },
    {
      "cell_type": "code",
      "execution_count": 7,
      "metadata": {
        "tags": []
      },
      "outputs": [
        {
          "output_type": "stream",
          "name": "stdout",
          "text": "DOG\nCAT\nBIRD\n"
        }
      ],
      "source": [
        "for animal in ('dog', 'cat', 'bird'):\n",
        "    print (animal.upper())"
      ]
    },
    {
      "metadata": {},
      "cell_type": "markdown",
      "source": [
        "## While Loop\n",
        "With a while loop your code is executed as long as your condition is true."
      ]
    },
    {
      "metadata": {
        "trusted": true,
        "tags": []
      },
      "cell_type": "code",
      "source": [
        "i=0\n",
        "while (i<5):\n",
        "    print (i)\n",
        "    i+=1"
      ],
      "execution_count": 8,
      "outputs": [
        {
          "output_type": "stream",
          "name": "stdout",
          "text": "0\n1\n2\n3\n4\n"
        }
      ]
    },
    {
      "metadata": {},
      "cell_type": "markdown",
      "source": [
        "### Use the while loop for calculation\n",
        "Here we calculate the factorial value = number! ($value = \\prod \\limits _{i=1} ^{number} i$)"
      ]
    },
    {
      "metadata": {
        "trusted": true,
        "tags": []
      },
      "cell_type": "code",
      "source": [
        "value = 1\n",
        "i=1\n",
        "number=11\n",
        "while (i<=number):\n",
        "    value *= i #same as: value=value*i\n",
        "    i+=1 #short for: i=i+1\n",
        "print (\"The factorial of \" + str(number) + \" is \" + str(value))"
      ],
      "execution_count": 9,
      "outputs": [
        {
          "output_type": "stream",
          "name": "stdout",
          "text": "The factorial of 11 is 39916800\n"
        }
      ]
    },
    {
      "cell_type": "markdown",
      "metadata": {},
      "source": [
        "### Use the while loop for fincancial calculations\n",
        "How long do we have to wait until 100 Euros get 200 Euros when you have an interest rate of 2%?"
      ]
    },
    {
      "cell_type": "code",
      "execution_count": 10,
      "metadata": {
        "tags": []
      },
      "outputs": [
        {
          "output_type": "stream",
          "name": "stdout",
          "text": "It takes 36  to get to  203.98873437157042  Euros with an interest rate of  0.02\n"
        }
      ],
      "source": [
        "account = 100\n",
        "interest = 0.02\n",
        "years = 0\n",
        "while account < 200:\n",
        "    account = account + account * interest\n",
        "    years+=1\n",
        "print ('It takes', years, ' to get to ', account, ' Euros with an interest rate of ', interest)"
      ]
    },
    {
      "cell_type": "markdown",
      "metadata": {},
      "source": [
        "### Generate drawings\n",
        "Using loops you can generate drawings."
      ]
    },
    {
      "cell_type": "code",
      "execution_count": 5,
      "metadata": {
        "tags": []
      },
      "outputs": [
        {
          "output_type": "stream",
          "name": "stdout",
          "text": "*  *\n*   *\n*    *\n*     *\n*      *\n"
        }
      ],
      "source": [
        "for i in range (5):\n",
        "    print('*',' '*i,'*')\n",
        "\n"
      ]
    }
  ],
  "metadata": {
    "kernelspec": {
      "name": "python_defaultSpec_1603138496613",
      "display_name": "Python 3.7.6 64-bit ('base': conda)",
      "language": "python"
    },
    "language_info": {
      "mimetype": "text/x-python",
      "nbconvert_exporter": "python",
      "name": "python",
      "pygments_lexer": "ipython3",
      "version": "3.7.6-final",
      "file_extension": ".py",
      "codemirror_mode": {
        "version": 3,
        "name": "ipython"
      }
    }
  },
  "nbformat": 4,
  "nbformat_minor": 2
}