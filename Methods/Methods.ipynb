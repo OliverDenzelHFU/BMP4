{
  "cells": [
    {
      "metadata": {},
      "cell_type": "markdown",
      "source": [
        "# Initialization Code\n",
        "This code can be ignored"
      ]
    },
    {
      "metadata": {
        "trusted": true
      },
      "cell_type": "code",
      "source": [
        "import numpy as np\n",
        "import matplotlib.pyplot as plt\n",
        "import math\n",
        "from ipywidgets import interact\n",
        "import ipywidgets as widgets\n",
        "import random\n",
        "import timeit\n",
        "\n",
        "def plot(xstart = 0.0, xend = 2.0):\n",
        "    x = np.arange(xstart,xend,0.01)\n",
        "    f2 = np.vectorize(f)\n",
        "    y = f2(x)\n",
        "    plt.plot(x,y)"
      ],
      "execution_count": 11,
      "outputs": []
    },
    {
      "metadata": {},
      "cell_type": "markdown",
      "source": [
        "# Simple function call\n",
        "print is a simple function which takes parameters and returns nothing."
      ]
    },
    {
      "metadata": {
        "trusted": true,
        "tags": []
      },
      "cell_type": "code",
      "source": [
        "print (\"Hello World\")"
      ],
      "execution_count": 12,
      "outputs": [
        {
          "output_type": "stream",
          "name": "stdout",
          "text": "Hello World\n"
        }
      ]
    },
    {
      "metadata": {},
      "cell_type": "markdown",
      "source": [
        "# Function calls with parameters\n",
        "\n",
        "`pow` is a function which takes two parameters and returns one value ($x ^ y$). Similar functions: `abs`, `max`, `min`."
      ]
    },
    {
      "metadata": {
        "trusted": true,
        "tags": []
      },
      "cell_type": "code",
      "source": [
        "print (pow(5,3))"
      ],
      "execution_count": 13,
      "outputs": [
        {
          "output_type": "stream",
          "name": "stdout",
          "text": "125\n"
        }
      ]
    },
    {
      "metadata": {},
      "cell_type": "markdown",
      "source": [
        "# Interactive functions\n",
        "Interactive functions\n",
        "The `math` object contains more functions you can use for your calculations. Here you find e.g. trigonometric functions. The `interact` function executes another function and shows all of the parameters as input controls (e.g. sliders)."
      ]
    },
    {
      "metadata": {
        "trusted": true
      },
      "cell_type": "code",
      "source": [
        "def f(x):\n",
        "    return abs(math.sin(x))\n",
        "interact(plot)"
      ],
      "execution_count": 14,
      "outputs": [
        {
          "output_type": "display_data",
          "data": {
            "text/plain": "interactive(children=(FloatSlider(value=0.0, description='xstart', max=1.0), FloatSlider(value=2.0, descriptio…",
            "application/vnd.jupyter.widget-view+json": {
              "version_major": 2,
              "version_minor": 0,
              "model_id": "18b82f8acff341e29a742c08e919bf4d"
            }
          },
          "metadata": {}
        },
        {
          "output_type": "execute_result",
          "data": {
            "text/plain": "<function __main__.plot(xstart=0.0, xend=2.0)>"
          },
          "metadata": {},
          "execution_count": 14
        }
      ]
    },
    {
      "metadata": {},
      "cell_type": "markdown",
      "source": [
        "# Recursive functions\n",
        "Recursive functions are functions which call themselves. So ideally you have a starting point with a simple result, and a way to break down a complicated calculation to a more simple one. The factorial of n is $1 * 2 * ... * n$. In mathematics it is written as $ n! $."
      ]
    },
    {
      "metadata": {
        "trusted": true
      },
      "cell_type": "code",
      "source": [
        "def fac(x):\n",
        "    if (x == 0):\n",
        "        return 1\n",
        "    else:\n",
        "        return fac(x-1)*x\n",
        "\n",
        "fac(10)    \n",
        "#fac(100000)"
      ],
      "execution_count": 15,
      "outputs": [
        {
          "output_type": "execute_result",
          "data": {
            "text/plain": "3628800"
          },
          "metadata": {},
          "execution_count": 15
        }
      ]
    },
    {
      "metadata": {},
      "cell_type": "markdown",
      "source": [
        "# List functions\n",
        "List functions\n",
        "Examples for functions `len`, `sorted`. Random is an object which provides you with different methods concerning random numbers, values and so on."
      ]
    },
    {
      "metadata": {
        "trusted": true
      },
      "cell_type": "code",
      "source": [
        "def lotto():\n",
        "        numbers = []\n",
        "        while (len(numbers) < 6):\n",
        "            newNumber = random.randint(1,46)\n",
        "            if (newNumber not in numbers):\n",
        "                numbers.append(newNumber)\n",
        "        return sorted(numbers)\n",
        "            \n",
        "lotto()"
      ],
      "execution_count": 16,
      "outputs": [
        {
          "output_type": "execute_result",
          "data": {
            "text/plain": "[14, 15, 18, 33, 43, 44]"
          },
          "metadata": {},
          "execution_count": 16
        }
      ]
    },
    {
      "metadata": {},
      "cell_type": "markdown",
      "source": [
        "## Different implementation\n",
        "`random.choices` chooses `k` elements of the range. `sorted` works same as above."
      ]
    },
    {
      "metadata": {
        "trusted": true
      },
      "cell_type": "code",
      "source": [
        "def lottoAlt():\n",
        "    numbers = random.choices(range(46),k=6)\n",
        "    return (sorted(numbers))\n",
        "lottoAlt()"
      ],
      "execution_count": 17,
      "outputs": [
        {
          "output_type": "execute_result",
          "data": {
            "text/plain": "[22, 25, 30, 37, 38, 43]"
          },
          "metadata": {},
          "execution_count": 17
        }
      ]
    },
    {
      "metadata": {},
      "cell_type": "markdown",
      "source": [
        "## Different implementation 2\n",
        "`list()` makes the range changeable\n",
        "`random.shuffle` shuffles the elements of `numbers`\n",
        "`numbers[:6]` cuts off all the elements after the 6."
      ]
    },
    {
      "metadata": {
        "trusted": true
      },
      "cell_type": "code",
      "source": [
        "def lottoAlt2():\n",
        "    numbers = list(range(46))\n",
        "    random.shuffle(numbers)\n",
        "    numbersResult = numbers[:6]\n",
        "    return (sorted(numbersResult))\n",
        "lottoAlt2()"
      ],
      "execution_count": 18,
      "outputs": [
        {
          "output_type": "execute_result",
          "data": {
            "text/plain": "[5, 11, 21, 25, 32, 38]"
          },
          "metadata": {},
          "execution_count": 18
        }
      ]
    },
    {
      "metadata": {},
      "cell_type": "markdown",
      "source": [
        "## Different implementation 3\n",
        "Precache the generation of the 46 numbers. Possible performance win?"
      ]
    },
    {
      "metadata": {
        "trusted": true
      },
      "cell_type": "code",
      "source": [
        "numbers46 = range(46)\n",
        "def lottoAlt3():\n",
        "    numbers = list(numbers46)\n",
        "    random.shuffle(numbers)\n",
        "    numbersResult= numbers[:6]\n",
        "    return (sorted(numbersResult))\n",
        "lottoAlt3()"
      ],
      "execution_count": 19,
      "outputs": [
        {
          "output_type": "execute_result",
          "data": {
            "text/plain": "[13, 15, 28, 31, 38, 39]"
          },
          "metadata": {},
          "execution_count": 19
        }
      ]
    }
  ],
  "metadata": {
    "kernelspec": {
      "name": "python_defaultSpec_1605876142919",
      "display_name": "Python 3.7.6 64-bit ('anaconda3': virtualenv)",
      "language": "python"
    },
    "language_info": {
      "mimetype": "text/x-python",
      "nbconvert_exporter": "python",
      "name": "python",
      "pygments_lexer": "ipython3",
      "version": "3.7.6-final",
      "file_extension": ".py",
      "codemirror_mode": {
        "version": 3,
        "name": "ipython"
      }
    }
  },
  "nbformat": 4,
  "nbformat_minor": 2
}