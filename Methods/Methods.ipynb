{
  "cells": [
    {
      "metadata": {},
      "cell_type": "markdown",
      "source": "# Initialization Code\nThis code can be ignored"
    },
    {
      "metadata": {
        "trusted": true
      },
      "cell_type": "code",
      "source": "import numpy as np\nimport matplotlib.pyplot as plt\nimport math\nfrom ipywidgets import interact\nimport ipywidgets as widgets\nimport random\nimport timeit\n\ndef plot(xstart = 0.0, xend = 2.0):\n    x = np.arange(xstart,xend,0.01)\n    f2 = np.vectorize(f)\n    y = f2(x)\n    plt.plot(x,y)",
      "execution_count": 1,
      "outputs": []
    },
    {
      "metadata": {},
      "cell_type": "markdown",
      "source": "# Simple function call\nprint is a simple function which takes parameters and returns nothing."
    },
    {
      "metadata": {
        "trusted": true
      },
      "cell_type": "code",
      "source": "print (\"Hello World\")",
      "execution_count": 2,
      "outputs": [
        {
          "output_type": "stream",
          "text": "Hello World\n",
          "name": "stdout"
        }
      ]
    },
    {
      "metadata": {},
      "cell_type": "markdown",
      "source": "# Function calls with parameters\npow is a function which takes two parameters and returns one value (x to the power of y). Similar functions: abs, max, min."
    },
    {
      "metadata": {
        "trusted": true
      },
      "cell_type": "code",
      "source": "print (pow(5,3))",
      "execution_count": 3,
      "outputs": [
        {
          "output_type": "stream",
          "text": "125\n",
          "name": "stdout"
        }
      ]
    },
    {
      "metadata": {},
      "cell_type": "markdown",
      "source": "# Interactive functions\nThe math object contains more functions you can use for your calculations. Here you find e.g. trigonometric functions. The interact function executes another function and shows all of the parameters as input controls (e.g. sliders)."
    },
    {
      "metadata": {
        "trusted": true
      },
      "cell_type": "code",
      "source": "def f(x):\n    return abs(math.sin(x))\ninteract(plot)",
      "execution_count": 4,
      "outputs": [
        {
          "output_type": "display_data",
          "data": {
            "application/vnd.jupyter.widget-view+json": {
              "model_id": "1cddb6fcd47849bbbd6deda3b6c338e8",
              "version_minor": 0,
              "version_major": 2
            },
            "text/plain": "interactive(children=(FloatSlider(value=0.0, description='xstart', max=1.0), FloatSlider(value=2.0, descriptio…"
          },
          "metadata": {}
        },
        {
          "output_type": "execute_result",
          "execution_count": 4,
          "data": {
            "text/plain": "<function __main__.plot(xstart=0.0, xend=2.0)>"
          },
          "metadata": {}
        }
      ]
    },
    {
      "metadata": {},
      "cell_type": "markdown",
      "source": "# Recursive functions\nRecursive functions are functions which call themselves. So ideally you have a starting point with a simple result, and a way to break down a complicated calculation to a more simple one."
    },
    {
      "metadata": {
        "trusted": true
      },
      "cell_type": "code",
      "source": "def fac(x):\n    if (x == 0):\n        return 1\n    else:\n        return fac(x-1)*x\n\n#fac(10)    \nfac(100000)",
      "execution_count": 11,
      "outputs": [
        {
          "output_type": "error",
          "ename": "RecursionError",
          "evalue": "maximum recursion depth exceeded in comparison",
          "traceback": [
            "\u001b[0;31m---------------------------------------------------------------------------\u001b[0m",
            "\u001b[0;31mRecursionError\u001b[0m                            Traceback (most recent call last)",
            "\u001b[0;32m<ipython-input-11-003334911fa1>\u001b[0m in \u001b[0;36m<module>\u001b[0;34m\u001b[0m\n\u001b[1;32m      6\u001b[0m \u001b[0;34m\u001b[0m\u001b[0m\n\u001b[1;32m      7\u001b[0m \u001b[0;31m#fac(10)\u001b[0m\u001b[0;34m\u001b[0m\u001b[0;34m\u001b[0m\u001b[0m\n\u001b[0;32m----> 8\u001b[0;31m \u001b[0mfac\u001b[0m\u001b[0;34m(\u001b[0m\u001b[0;36m100000\u001b[0m\u001b[0;34m)\u001b[0m\u001b[0;34m\u001b[0m\u001b[0m\n\u001b[0m",
            "\u001b[0;32m<ipython-input-11-003334911fa1>\u001b[0m in \u001b[0;36mfac\u001b[0;34m(x)\u001b[0m\n\u001b[1;32m      3\u001b[0m         \u001b[0;32mreturn\u001b[0m \u001b[0;36m1\u001b[0m\u001b[0;34m\u001b[0m\u001b[0m\n\u001b[1;32m      4\u001b[0m     \u001b[0;32melse\u001b[0m\u001b[0;34m:\u001b[0m\u001b[0;34m\u001b[0m\u001b[0m\n\u001b[0;32m----> 5\u001b[0;31m         \u001b[0;32mreturn\u001b[0m \u001b[0mfac\u001b[0m\u001b[0;34m(\u001b[0m\u001b[0mx\u001b[0m\u001b[0;34m-\u001b[0m\u001b[0;36m1\u001b[0m\u001b[0;34m)\u001b[0m\u001b[0;34m*\u001b[0m\u001b[0mx\u001b[0m\u001b[0;34m\u001b[0m\u001b[0m\n\u001b[0m\u001b[1;32m      6\u001b[0m \u001b[0;34m\u001b[0m\u001b[0m\n\u001b[1;32m      7\u001b[0m \u001b[0;31m#fac(10)\u001b[0m\u001b[0;34m\u001b[0m\u001b[0;34m\u001b[0m\u001b[0m\n",
            "... last 1 frames repeated, from the frame below ...\n",
            "\u001b[0;32m<ipython-input-11-003334911fa1>\u001b[0m in \u001b[0;36mfac\u001b[0;34m(x)\u001b[0m\n\u001b[1;32m      3\u001b[0m         \u001b[0;32mreturn\u001b[0m \u001b[0;36m1\u001b[0m\u001b[0;34m\u001b[0m\u001b[0m\n\u001b[1;32m      4\u001b[0m     \u001b[0;32melse\u001b[0m\u001b[0;34m:\u001b[0m\u001b[0;34m\u001b[0m\u001b[0m\n\u001b[0;32m----> 5\u001b[0;31m         \u001b[0;32mreturn\u001b[0m \u001b[0mfac\u001b[0m\u001b[0;34m(\u001b[0m\u001b[0mx\u001b[0m\u001b[0;34m-\u001b[0m\u001b[0;36m1\u001b[0m\u001b[0;34m)\u001b[0m\u001b[0;34m*\u001b[0m\u001b[0mx\u001b[0m\u001b[0;34m\u001b[0m\u001b[0m\n\u001b[0m\u001b[1;32m      6\u001b[0m \u001b[0;34m\u001b[0m\u001b[0m\n\u001b[1;32m      7\u001b[0m \u001b[0;31m#fac(10)\u001b[0m\u001b[0;34m\u001b[0m\u001b[0;34m\u001b[0m\u001b[0m\n",
            "\u001b[0;31mRecursionError\u001b[0m: maximum recursion depth exceeded in comparison"
          ]
        }
      ]
    },
    {
      "metadata": {},
      "cell_type": "markdown",
      "source": "# List functions\nExamples for functions len, sorted. Random is an object which provides you with different methods concerning random numbers, values and so on."
    },
    {
      "metadata": {
        "trusted": true
      },
      "cell_type": "code",
      "source": "def lotto():\n        numbers = []\n        while (len(numbers) < 6):\n            newNumber = random.randint(1,46)\n            if (newNumber not in numbers):\n                numbers.append(newNumber)\n        return sorted(numbers)\n            \nlotto()",
      "execution_count": 6,
      "outputs": [
        {
          "output_type": "execute_result",
          "execution_count": 6,
          "data": {
            "text/plain": "[9, 11, 21, 36, 38, 45]"
          },
          "metadata": {}
        }
      ]
    },
    {
      "metadata": {},
      "cell_type": "markdown",
      "source": "## Different implementation\nrandom.choices chooses k elements of the range. sorted works same as above."
    },
    {
      "metadata": {
        "trusted": true
      },
      "cell_type": "code",
      "source": "def lottoAlt():\n    numbers = random.choices(range(46),k=6)\n    return (sorted(numbers))\nlottoAlt()",
      "execution_count": 7,
      "outputs": [
        {
          "output_type": "execute_result",
          "execution_count": 7,
          "data": {
            "text/plain": "[13, 20, 20, 30, 35, 36]"
          },
          "metadata": {}
        }
      ]
    },
    {
      "metadata": {},
      "cell_type": "markdown",
      "source": "## Different implementation 2\nlist() makes the range changeable\nrandom.shuffle shuffles the elements of numbers\nnumbers[:6] cuts off all the elements after the 6."
    },
    {
      "metadata": {
        "trusted": true
      },
      "cell_type": "code",
      "source": "def lottoAlt2():\n    numbers = list(range(46))\n    random.shuffle(numbers)\n    numbersResult = numbers[:6]\n    return (sorted(numbersResult))\nlottoAlt2()",
      "execution_count": 8,
      "outputs": [
        {
          "output_type": "execute_result",
          "execution_count": 8,
          "data": {
            "text/plain": "[13, 17, 27, 30, 31, 34]"
          },
          "metadata": {}
        }
      ]
    },
    {
      "metadata": {},
      "cell_type": "markdown",
      "source": "## Different implementation 3\nPrecache the generation of the 46 numbers. Possible performance win?"
    },
    {
      "metadata": {
        "trusted": true
      },
      "cell_type": "code",
      "source": "numbers46 = range(46)\ndef lottoAlt3():\n    numbers = list(numbers46)\n    random.shuffle(numbers)\n    numbersResult= numbers[:6]\n    return (sorted(numbersResult))\nlottoAlt3()",
      "execution_count": 9,
      "outputs": [
        {
          "output_type": "execute_result",
          "execution_count": 9,
          "data": {
            "text/plain": "[6, 14, 16, 18, 20, 44]"
          },
          "metadata": {}
        }
      ]
    },
    {
      "metadata": {},
      "cell_type": "markdown",
      "source": "# Performance\ntimeit.timeit is a function which tests the performance of another function. It calls the function very often and returns the sum of the differences between start-time and stop-time."
    },
    {
      "metadata": {
        "trusted": true
      },
      "cell_type": "code",
      "source": "standard = timeit.timeit(lotto)\nalt1 = timeit.timeit(lottoAlt)\nalt2 = timeit.timeit(lottoAlt2)\nalt3 = timeit.timeit(lottoAlt3)\nprint ('{} {} {} {}'.format(standard, alt1, alt2, alt3))",
      "execution_count": 10,
      "outputs": [
        {
          "output_type": "stream",
          "text": "31.225192400000196 11.730884099999457 99.68846730000041 98.35497379999924\n",
          "name": "stdout"
        }
      ]
    }
  ],
  "metadata": {
    "kernelspec": {
      "name": "python36",
      "display_name": "Python 3.6",
      "language": "python"
    },
    "language_info": {
      "mimetype": "text/x-python",
      "nbconvert_exporter": "python",
      "name": "python",
      "pygments_lexer": "ipython3",
      "version": "3.6.6",
      "file_extension": ".py",
      "codemirror_mode": {
        "version": 3,
        "name": "ipython"
      }
    }
  },
  "nbformat": 4,
  "nbformat_minor": 2
}