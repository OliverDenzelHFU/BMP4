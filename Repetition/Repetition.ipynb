{
  "cells": [
    {
      "metadata": {
        "collapsed": true
      },
      "cell_type": "markdown",
      "source": [
        "# Repetition"
      ]
    },
    {
      "metadata": {},
      "cell_type": "markdown",
      "source": [
        "## Import / Modules\n",
        "From Modules you can import additional functionality.\n",
        "\n",
        "Don't overthink this at first, just add your import statements as needed.\n",
        "\n",
        "Here are the most important modules which were used in the examples:\n",
        "\n",
        "| Name | Use | Documentation |\n",
        "|---|---|---|\n",
        "| ipywidgets | Interactive Jupyter Notebooks | https://ipywidgets.readthedocs.io/en/latest/examples/Using%20Interact.html |\n",
        "| numpy & pandas | Analyzing big datasets | https://numpy.org https://pandas.pydata.org |\n",
        "| math | more elaborate math functions | https://docs.python.org/3/library/math.html |\n",
        "| csv | importing data without using pandas / numpy | https://docs.python.org/3/library/csv.html |\n",
        "| datetime | working with dates, timespans and so on | https://docs.python.org/3/library/datetime.html |\n",
        "| random | Getting random values | https://docs.python.org/3/library/random.html |\n",
        "| matplotlib | Plotting values | https://matplotlib.org |\n",
        "| bokeh | Alternative to matplotlib | https://docs.bokeh.org/en/latest/ |\n",
        "\n",
        "Feel free to use them for your assignment, or choose different ones!"
      ]
    },
    {
      "metadata": {
        "trusted": true
      },
      "cell_type": "code",
      "source": [
        "from ipywidgets import interact,Checkbox"
      ],
      "execution_count": 1,
      "outputs": []
    },
    {
      "metadata": {},
      "cell_type": "markdown",
      "source": [
        "## Method definition\n",
        "The idea here is to define a method which gets a few parameters concerning your assignment and returns a boolean value.\n",
        "\n",
        "The boolean value represents wether the parameters are in a correct range."
      ]
    },
    {
      "metadata": {
        "trusted": true
      },
      "cell_type": "code",
      "source": [
        "def grade (hasForLoop, hasWhileLoop, hasMethod, documentPages):\n",
        "    return (hasForLoop or hasWhileLoop) and hasMethod and documentPages >= 10 and documentPages < 30"
      ],
      "execution_count": 2,
      "outputs": []
    },
    {
      "metadata": {},
      "cell_type": "markdown",
      "source": [
        "## Call the method\n",
        "In the module ipywidgets there is the method interact. With this you can call one of your methods, and have it generate controls for every parameter.\n",
        "\n",
        "This is one of the things you can do: Write a method which simulates things, and make it interactive using interact."
      ]
    },
    {
      "metadata": {
        "trusted": true
      },
      "cell_type": "code",
      "source": [
        "interact(grade, hasForLoop=False, hasWhileLoop=False, hasMethod=Checkbox(value=False,description=\"Scratch has a method\"), documentPages=10);"
      ],
      "execution_count": 3,
      "outputs": [
        {
          "output_type": "display_data",
          "data": {
            "text/plain": "interactive(children=(Checkbox(value=False, description='hasForLoop'), Checkbox(value=False, description='hasW…",
            "application/vnd.jupyter.widget-view+json": {
              "version_major": 2,
              "version_minor": 0,
              "model_id": "322e91e326f0492bb0ae0666263e602d"
            }
          },
          "metadata": {}
        }
      ]
    },
    {
      "metadata": {},
      "cell_type": "markdown",
      "source": [
        "## Working with lists & loops\n",
        "With lists you can store multiple values in one variable. Often they are combinated with loops. Loops allow you to execute code multiple times.\n",
        "\n",
        "### Documentation\n",
        "\n",
        "Lists: https://docs.python.org/3/tutorial/datastructures.html\n",
        "\n",
        "Loops: https://wiki.python.org/moin/ForLoop\n"
      ]
    },
    {
      "metadata": {
        "trusted": true
      },
      "cell_type": "code",
      "source": [
        "empty = []\n",
        "notEmpty = [90]\n",
        "\n",
        "for i in range(10):\n",
        "    notEmpty.append(i)\n",
        "    \n",
        "notEmpty[3:5]"
      ],
      "execution_count": 4,
      "outputs": [
        {
          "output_type": "execute_result",
          "data": {
            "text/plain": "[2, 3]"
          },
          "metadata": {},
          "execution_count": 4
        }
      ]
    },
    {
      "metadata": {},
      "cell_type": "markdown",
      "source": [
        "## Object / Classes\n",
        "When you use lists, you are already using predefined objects.\n",
        "\n",
        "You can also implement your own objects to combine a datastructure with logic."
      ]
    },
    {
      "metadata": {
        "trusted": true,
        "tags": []
      },
      "cell_type": "code",
      "source": [
        "class price:\n",
        "    def __init__(self, price, currency):\n",
        "        self.price = price\n",
        "        self.currency = currency\n",
        "    def changeCurrency(self, newCurrency):\n",
        "        if (self.currency==\"Euro\" and newCurrency==\"Yen\"):\n",
        "            self.price *= 120\n",
        "            self.currency = newCurrency\n",
        "        elif (self.currency==\"Yen\" and newCurrency==\"Euro\"):\n",
        "            self.price /= 120\n",
        "            self.currency = newCurrency\n",
        "        else:\n",
        "            print(\"Error, possibly wrong currency?\")\n",
        "    def __repr__(self):\n",
        "        return str(self.price) + \" \" + self.currency\n",
        "iphone11 = price(799, \"Euro\")\n",
        "iphone11.changeCurrency(\"Yen\")\n",
        "iphone11.changeCurrency(\"Dollar\")\n",
        "print (\"iPhone 11 in Yen: \" + str(iphone11))"
      ],
      "execution_count": 5,
      "outputs": [
        {
          "output_type": "stream",
          "name": "stdout",
          "text": "Error, possibly wrong currency?\niPhone 11 in Yen: 95880 Yen\n"
        }
      ]
    },
    {
      "metadata": {},
      "cell_type": "markdown",
      "source": [
        "## Numpy / Pandas / Bokeh\n",
        "Using those libraries you can implement a complete analysis of even the largests datasets."
      ]
    },
    {
      "metadata": {
        "trusted": true
      },
      "cell_type": "code",
      "source": [
        "import numpy as np\n",
        "import pandas as pd\n",
        "\n",
        "df = pd.read_csv('./de-nrw-dortmund-versorgung_mit_energie_und_wasser_seit_1994.csv', encoding='latin1', delimiter=';')\n",
        "df.head(5)"
      ],
      "execution_count": 6,
      "outputs": [
        {
          "output_type": "execute_result",
          "data": {
            "text/plain": "   Jahr  Erdgasverkauf insgesamt in Mill kWh  \\\n0  1994                                 4804   \n1  1995                                 5052   \n2  1996                                 5636   \n3  1997                                 4943   \n4  1998                                 4942   \n\n   darunter Erdgasverkauf an Privatkunden  \\\n0                                    3464   \n1                                    3701   \n2                                    4268   \n3                                    3727   \n4                                    3760   \n\n   darunter Erdgasverkauf an Geschäftskunden  \\\n0                                       1340   \n1                                       1350   \n2                                       1369   \n3                                       1216   \n4                                       1182   \n\n   Stromverkauf insgesamt in Mill kWh  darunter Stromverkauf an Privatkunden  \\\n0                                2207                                   1064   \n1                                2196                                   1067   \n2                                2236                                   1110   \n3                                2204                                   1075   \n4                                2223                                   1070   \n\n   darunter Stromverkauf an Geschäftskunden  Fernwärmeverkauf in Mill kWh  \\\n0                                      1142                           392   \n1                                      1129                           393   \n2                                      1126                           450   \n3                                      1129                           429   \n4                                      1153                           421   \n\n   Nahwärmeverkauf in Mill kWh  Wasserverkauf insgesamt in Mill m³  \\\n0                          158                                  60   \n1                          169                                  59   \n2                          214                                  59   \n3                          198                                  59   \n4                          245                                  56   \n\n   davon an Privatkunden  davon an Geschäftskunden  \n0                     39                        22  \n1                     38                        21  \n2                     37                        22  \n3                     37                        22  \n4                     36                        20  ",
            "text/html": "<div>\n<style scoped>\n    .dataframe tbody tr th:only-of-type {\n        vertical-align: middle;\n    }\n\n    .dataframe tbody tr th {\n        vertical-align: top;\n    }\n\n    .dataframe thead th {\n        text-align: right;\n    }\n</style>\n<table border=\"1\" class=\"dataframe\">\n  <thead>\n    <tr style=\"text-align: right;\">\n      <th></th>\n      <th>Jahr</th>\n      <th>Erdgasverkauf insgesamt in Mill kWh</th>\n      <th>darunter Erdgasverkauf an Privatkunden</th>\n      <th>darunter Erdgasverkauf an Geschäftskunden</th>\n      <th>Stromverkauf insgesamt in Mill kWh</th>\n      <th>darunter Stromverkauf an Privatkunden</th>\n      <th>darunter Stromverkauf an Geschäftskunden</th>\n      <th>Fernwärmeverkauf in Mill kWh</th>\n      <th>Nahwärmeverkauf in Mill kWh</th>\n      <th>Wasserverkauf insgesamt in Mill m³</th>\n      <th>davon an Privatkunden</th>\n      <th>davon an Geschäftskunden</th>\n    </tr>\n  </thead>\n  <tbody>\n    <tr>\n      <th>0</th>\n      <td>1994</td>\n      <td>4804</td>\n      <td>3464</td>\n      <td>1340</td>\n      <td>2207</td>\n      <td>1064</td>\n      <td>1142</td>\n      <td>392</td>\n      <td>158</td>\n      <td>60</td>\n      <td>39</td>\n      <td>22</td>\n    </tr>\n    <tr>\n      <th>1</th>\n      <td>1995</td>\n      <td>5052</td>\n      <td>3701</td>\n      <td>1350</td>\n      <td>2196</td>\n      <td>1067</td>\n      <td>1129</td>\n      <td>393</td>\n      <td>169</td>\n      <td>59</td>\n      <td>38</td>\n      <td>21</td>\n    </tr>\n    <tr>\n      <th>2</th>\n      <td>1996</td>\n      <td>5636</td>\n      <td>4268</td>\n      <td>1369</td>\n      <td>2236</td>\n      <td>1110</td>\n      <td>1126</td>\n      <td>450</td>\n      <td>214</td>\n      <td>59</td>\n      <td>37</td>\n      <td>22</td>\n    </tr>\n    <tr>\n      <th>3</th>\n      <td>1997</td>\n      <td>4943</td>\n      <td>3727</td>\n      <td>1216</td>\n      <td>2204</td>\n      <td>1075</td>\n      <td>1129</td>\n      <td>429</td>\n      <td>198</td>\n      <td>59</td>\n      <td>37</td>\n      <td>22</td>\n    </tr>\n    <tr>\n      <th>4</th>\n      <td>1998</td>\n      <td>4942</td>\n      <td>3760</td>\n      <td>1182</td>\n      <td>2223</td>\n      <td>1070</td>\n      <td>1153</td>\n      <td>421</td>\n      <td>245</td>\n      <td>56</td>\n      <td>36</td>\n      <td>20</td>\n    </tr>\n  </tbody>\n</table>\n</div>"
          },
          "metadata": {},
          "execution_count": 6
        }
      ]
    },
    {
      "metadata": {
        "trusted": true
      },
      "cell_type": "code",
      "source": [
        "df.describe()"
      ],
      "execution_count": 7,
      "outputs": [
        {
          "output_type": "execute_result",
          "data": {
            "text/plain": "              Jahr  Erdgasverkauf insgesamt in Mill kWh  \\\ncount    24.000000                            24.000000   \nmean   2005.500000                          4788.208333   \nstd       7.071068                           311.537140   \nmin    1994.000000                          4022.000000   \n25%    1999.750000                          4601.750000   \n50%    2005.500000                          4806.000000   \n75%    2011.250000                          4942.250000   \nmax    2017.000000                          5636.000000   \n\n       darunter Erdgasverkauf an Privatkunden  \\\ncount                               24.000000   \nmean                              3141.291667   \nstd                                620.314540   \nmin                               1987.000000   \n25%                               2741.000000   \n50%                               3335.500000   \n75%                               3578.250000   \nmax                               4268.000000   \n\n       darunter Erdgasverkauf an Geschäftskunden  \\\ncount                                  24.000000   \nmean                                 1106.000000   \nstd                                   221.159789   \nmin                                   547.000000   \n25%                                  1000.250000   \n50%                                  1189.500000   \n75%                                  1244.000000   \nmax                                  1369.000000   \n\n       Stromverkauf insgesamt in Mill kWh  \\\ncount                           24.000000   \nmean                          2293.458333   \nstd                             82.703756   \nmin                           2157.000000   \n25%                           2221.750000   \n50%                           2277.000000   \n75%                           2371.750000   \nmax                           2422.000000   \n\n       darunter Stromverkauf an Privatkunden  \\\ncount                              24.000000   \nmean                              967.125000   \nstd                                99.765949   \nmin                               755.000000   \n25%                               881.000000   \n50%                              1010.000000   \n75%                              1046.000000   \nmax                              1110.000000   \n\n       darunter Stromverkauf an Geschäftskunden  Fernwärmeverkauf in Mill kWh  \\\ncount                                 24.000000                     24.000000   \nmean                                 972.250000                    382.666667   \nstd                                  232.419084                     33.880438   \nmin                                  553.000000                    318.000000   \n25%                                  750.250000                    365.250000   \n50%                                 1103.500000                    384.500000   \n75%                                 1142.250000                    398.750000   \nmax                                 1199.000000                    450.000000   \n\n       Nahwärmeverkauf in Mill kWh  Wasserverkauf insgesamt in Mill m³  \\\ncount                    24.000000                             24.0000   \nmean                    238.000000                             42.8750   \nstd                      32.288105                              9.6833   \nmin                     158.000000                             34.0000   \n25%                     234.500000                             35.0000   \n50%                     245.000000                             37.5000   \n75%                     255.750000                             52.0000   \nmax                     290.000000                             60.0000   \n\n       davon an Privatkunden  davon an Geschäftskunden  \ncount              24.000000                 24.000000  \nmean               33.583333                  9.375000  \nstd                 2.888006                  7.125048  \nmin                30.000000                  4.000000  \n25%                31.000000                  4.000000  \n50%                32.000000                  5.500000  \n75%                36.000000                 16.000000  \nmax                39.000000                 22.000000  ",
            "text/html": "<div>\n<style scoped>\n    .dataframe tbody tr th:only-of-type {\n        vertical-align: middle;\n    }\n\n    .dataframe tbody tr th {\n        vertical-align: top;\n    }\n\n    .dataframe thead th {\n        text-align: right;\n    }\n</style>\n<table border=\"1\" class=\"dataframe\">\n  <thead>\n    <tr style=\"text-align: right;\">\n      <th></th>\n      <th>Jahr</th>\n      <th>Erdgasverkauf insgesamt in Mill kWh</th>\n      <th>darunter Erdgasverkauf an Privatkunden</th>\n      <th>darunter Erdgasverkauf an Geschäftskunden</th>\n      <th>Stromverkauf insgesamt in Mill kWh</th>\n      <th>darunter Stromverkauf an Privatkunden</th>\n      <th>darunter Stromverkauf an Geschäftskunden</th>\n      <th>Fernwärmeverkauf in Mill kWh</th>\n      <th>Nahwärmeverkauf in Mill kWh</th>\n      <th>Wasserverkauf insgesamt in Mill m³</th>\n      <th>davon an Privatkunden</th>\n      <th>davon an Geschäftskunden</th>\n    </tr>\n  </thead>\n  <tbody>\n    <tr>\n      <th>count</th>\n      <td>24.000000</td>\n      <td>24.000000</td>\n      <td>24.000000</td>\n      <td>24.000000</td>\n      <td>24.000000</td>\n      <td>24.000000</td>\n      <td>24.000000</td>\n      <td>24.000000</td>\n      <td>24.000000</td>\n      <td>24.0000</td>\n      <td>24.000000</td>\n      <td>24.000000</td>\n    </tr>\n    <tr>\n      <th>mean</th>\n      <td>2005.500000</td>\n      <td>4788.208333</td>\n      <td>3141.291667</td>\n      <td>1106.000000</td>\n      <td>2293.458333</td>\n      <td>967.125000</td>\n      <td>972.250000</td>\n      <td>382.666667</td>\n      <td>238.000000</td>\n      <td>42.8750</td>\n      <td>33.583333</td>\n      <td>9.375000</td>\n    </tr>\n    <tr>\n      <th>std</th>\n      <td>7.071068</td>\n      <td>311.537140</td>\n      <td>620.314540</td>\n      <td>221.159789</td>\n      <td>82.703756</td>\n      <td>99.765949</td>\n      <td>232.419084</td>\n      <td>33.880438</td>\n      <td>32.288105</td>\n      <td>9.6833</td>\n      <td>2.888006</td>\n      <td>7.125048</td>\n    </tr>\n    <tr>\n      <th>min</th>\n      <td>1994.000000</td>\n      <td>4022.000000</td>\n      <td>1987.000000</td>\n      <td>547.000000</td>\n      <td>2157.000000</td>\n      <td>755.000000</td>\n      <td>553.000000</td>\n      <td>318.000000</td>\n      <td>158.000000</td>\n      <td>34.0000</td>\n      <td>30.000000</td>\n      <td>4.000000</td>\n    </tr>\n    <tr>\n      <th>25%</th>\n      <td>1999.750000</td>\n      <td>4601.750000</td>\n      <td>2741.000000</td>\n      <td>1000.250000</td>\n      <td>2221.750000</td>\n      <td>881.000000</td>\n      <td>750.250000</td>\n      <td>365.250000</td>\n      <td>234.500000</td>\n      <td>35.0000</td>\n      <td>31.000000</td>\n      <td>4.000000</td>\n    </tr>\n    <tr>\n      <th>50%</th>\n      <td>2005.500000</td>\n      <td>4806.000000</td>\n      <td>3335.500000</td>\n      <td>1189.500000</td>\n      <td>2277.000000</td>\n      <td>1010.000000</td>\n      <td>1103.500000</td>\n      <td>384.500000</td>\n      <td>245.000000</td>\n      <td>37.5000</td>\n      <td>32.000000</td>\n      <td>5.500000</td>\n    </tr>\n    <tr>\n      <th>75%</th>\n      <td>2011.250000</td>\n      <td>4942.250000</td>\n      <td>3578.250000</td>\n      <td>1244.000000</td>\n      <td>2371.750000</td>\n      <td>1046.000000</td>\n      <td>1142.250000</td>\n      <td>398.750000</td>\n      <td>255.750000</td>\n      <td>52.0000</td>\n      <td>36.000000</td>\n      <td>16.000000</td>\n    </tr>\n    <tr>\n      <th>max</th>\n      <td>2017.000000</td>\n      <td>5636.000000</td>\n      <td>4268.000000</td>\n      <td>1369.000000</td>\n      <td>2422.000000</td>\n      <td>1110.000000</td>\n      <td>1199.000000</td>\n      <td>450.000000</td>\n      <td>290.000000</td>\n      <td>60.0000</td>\n      <td>39.000000</td>\n      <td>22.000000</td>\n    </tr>\n  </tbody>\n</table>\n</div>"
          },
          "metadata": {},
          "execution_count": 7
        }
      ]
    },
    {
      "metadata": {
        "trusted": true
      },
      "cell_type": "code",
      "source": [
        "from bokeh.plotting import figure, output_notebook, show\n",
        "output_notebook()\n",
        "\n",
        "p = figure(title=\"Erdgasverkauf insgesamt in Mill kWh\", x_axis_label='Year', y_axis_label='kWh')\n",
        "\n",
        "p.line(df['Jahr'], df['Erdgasverkauf insgesamt in Mill kWh'], line_width=2)\n",
        "\n",
        "show(p)"
      ],
      "execution_count": 8,
      "outputs": [
        {
          "output_type": "display_data",
          "data": {
            "text/html": "\n    <div class=\"bk-root\">\n        <a href=\"https://bokeh.org\" target=\"_blank\" class=\"bk-logo bk-logo-small bk-logo-notebook\"></a>\n        <span id=\"1001\">Loading BokehJS ...</span>\n    </div>"
          },
          "metadata": {}
        },
        {
          "output_type": "display_data",
          "data": {
            "application/javascript": "\n(function(root) {\n  function now() {\n    return new Date();\n  }\n\n  var force = true;\n\n  if (typeof root._bokeh_onload_callbacks === \"undefined\" || force === true) {\n    root._bokeh_onload_callbacks = [];\n    root._bokeh_is_loading = undefined;\n  }\n\n  var JS_MIME_TYPE = 'application/javascript';\n  var HTML_MIME_TYPE = 'text/html';\n  var EXEC_MIME_TYPE = 'application/vnd.bokehjs_exec.v0+json';\n  var CLASS_NAME = 'output_bokeh rendered_html';\n\n  /**\n   * Render data to the DOM node\n   */\n  function render(props, node) {\n    var script = document.createElement(\"script\");\n    node.appendChild(script);\n  }\n\n  /**\n   * Handle when an output is cleared or removed\n   */\n  function handleClearOutput(event, handle) {\n    var cell = handle.cell;\n\n    var id = cell.output_area._bokeh_element_id;\n    var server_id = cell.output_area._bokeh_server_id;\n    // Clean up Bokeh references\n    if (id != null && id in Bokeh.index) {\n      Bokeh.index[id].model.document.clear();\n      delete Bokeh.index[id];\n    }\n\n    if (server_id !== undefined) {\n      // Clean up Bokeh references\n      var cmd = \"from bokeh.io.state import curstate; print(curstate().uuid_to_server['\" + server_id + \"'].get_sessions()[0].document.roots[0]._id)\";\n      cell.notebook.kernel.execute(cmd, {\n        iopub: {\n          output: function(msg) {\n            var id = msg.content.text.trim();\n            if (id in Bokeh.index) {\n              Bokeh.index[id].model.document.clear();\n              delete Bokeh.index[id];\n            }\n          }\n        }\n      });\n      // Destroy server and session\n      var cmd = \"import bokeh.io.notebook as ion; ion.destroy_server('\" + server_id + \"')\";\n      cell.notebook.kernel.execute(cmd);\n    }\n  }\n\n  /**\n   * Handle when a new output is added\n   */\n  function handleAddOutput(event, handle) {\n    var output_area = handle.output_area;\n    var output = handle.output;\n\n    // limit handleAddOutput to display_data with EXEC_MIME_TYPE content only\n    if ((output.output_type != \"display_data\") || (!output.data.hasOwnProperty(EXEC_MIME_TYPE))) {\n      return\n    }\n\n    var toinsert = output_area.element.find(\".\" + CLASS_NAME.split(' ')[0]);\n\n    if (output.metadata[EXEC_MIME_TYPE][\"id\"] !== undefined) {\n      toinsert[toinsert.length - 1].firstChild.textContent = output.data[JS_MIME_TYPE];\n      // store reference to embed id on output_area\n      output_area._bokeh_element_id = output.metadata[EXEC_MIME_TYPE][\"id\"];\n    }\n    if (output.metadata[EXEC_MIME_TYPE][\"server_id\"] !== undefined) {\n      var bk_div = document.createElement(\"div\");\n      bk_div.innerHTML = output.data[HTML_MIME_TYPE];\n      var script_attrs = bk_div.children[0].attributes;\n      for (var i = 0; i < script_attrs.length; i++) {\n        toinsert[toinsert.length - 1].firstChild.setAttribute(script_attrs[i].name, script_attrs[i].value);\n      }\n      // store reference to server id on output_area\n      output_area._bokeh_server_id = output.metadata[EXEC_MIME_TYPE][\"server_id\"];\n    }\n  }\n\n  function register_renderer(events, OutputArea) {\n\n    function append_mime(data, metadata, element) {\n      // create a DOM node to render to\n      var toinsert = this.create_output_subarea(\n        metadata,\n        CLASS_NAME,\n        EXEC_MIME_TYPE\n      );\n      this.keyboard_manager.register_events(toinsert);\n      // Render to node\n      var props = {data: data, metadata: metadata[EXEC_MIME_TYPE]};\n      render(props, toinsert[toinsert.length - 1]);\n      element.append(toinsert);\n      return toinsert\n    }\n\n    /* Handle when an output is cleared or removed */\n    events.on('clear_output.CodeCell', handleClearOutput);\n    events.on('delete.Cell', handleClearOutput);\n\n    /* Handle when a new output is added */\n    events.on('output_added.OutputArea', handleAddOutput);\n\n    /**\n     * Register the mime type and append_mime function with output_area\n     */\n    OutputArea.prototype.register_mime_type(EXEC_MIME_TYPE, append_mime, {\n      /* Is output safe? */\n      safe: true,\n      /* Index of renderer in `output_area.display_order` */\n      index: 0\n    });\n  }\n\n  // register the mime type if in Jupyter Notebook environment and previously unregistered\n  if (root.Jupyter !== undefined) {\n    var events = require('base/js/events');\n    var OutputArea = require('notebook/js/outputarea').OutputArea;\n\n    if (OutputArea.prototype.mime_types().indexOf(EXEC_MIME_TYPE) == -1) {\n      register_renderer(events, OutputArea);\n    }\n  }\n\n  \n  if (typeof (root._bokeh_timeout) === \"undefined\" || force === true) {\n    root._bokeh_timeout = Date.now() + 5000;\n    root._bokeh_failed_load = false;\n  }\n\n  var NB_LOAD_WARNING = {'data': {'text/html':\n     \"<div style='background-color: #fdd'>\\n\"+\n     \"<p>\\n\"+\n     \"BokehJS does not appear to have successfully loaded. If loading BokehJS from CDN, this \\n\"+\n     \"may be due to a slow or bad network connection. Possible fixes:\\n\"+\n     \"</p>\\n\"+\n     \"<ul>\\n\"+\n     \"<li>re-rerun `output_notebook()` to attempt to load from CDN again, or</li>\\n\"+\n     \"<li>use INLINE resources instead, as so:</li>\\n\"+\n     \"</ul>\\n\"+\n     \"<code>\\n\"+\n     \"from bokeh.resources import INLINE\\n\"+\n     \"output_notebook(resources=INLINE)\\n\"+\n     \"</code>\\n\"+\n     \"</div>\"}};\n\n  function display_loaded() {\n    var el = document.getElementById(\"1001\");\n    if (el != null) {\n      el.textContent = \"BokehJS is loading...\";\n    }\n    if (root.Bokeh !== undefined) {\n      if (el != null) {\n        el.textContent = \"BokehJS \" + root.Bokeh.version + \" successfully loaded.\";\n      }\n    } else if (Date.now() < root._bokeh_timeout) {\n      setTimeout(display_loaded, 100)\n    }\n  }\n\n\n  function run_callbacks() {\n    try {\n      root._bokeh_onload_callbacks.forEach(function(callback) {\n        if (callback != null)\n          callback();\n      });\n    } finally {\n      delete root._bokeh_onload_callbacks\n    }\n    console.debug(\"Bokeh: all callbacks have finished\");\n  }\n\n  function load_libs(css_urls, js_urls, callback) {\n    if (css_urls == null) css_urls = [];\n    if (js_urls == null) js_urls = [];\n\n    root._bokeh_onload_callbacks.push(callback);\n    if (root._bokeh_is_loading > 0) {\n      console.debug(\"Bokeh: BokehJS is being loaded, scheduling callback at\", now());\n      return null;\n    }\n    if (js_urls == null || js_urls.length === 0) {\n      run_callbacks();\n      return null;\n    }\n    console.debug(\"Bokeh: BokehJS not loaded, scheduling load and callback at\", now());\n    root._bokeh_is_loading = css_urls.length + js_urls.length;\n\n    function on_load() {\n      root._bokeh_is_loading--;\n      if (root._bokeh_is_loading === 0) {\n        console.debug(\"Bokeh: all BokehJS libraries/stylesheets loaded\");\n        run_callbacks()\n      }\n    }\n\n    function on_error() {\n      console.error(\"failed to load \" + url);\n    }\n\n    for (var i = 0; i < css_urls.length; i++) {\n      var url = css_urls[i];\n      const element = document.createElement(\"link\");\n      element.onload = on_load;\n      element.onerror = on_error;\n      element.rel = \"stylesheet\";\n      element.type = \"text/css\";\n      element.href = url;\n      console.debug(\"Bokeh: injecting link tag for BokehJS stylesheet: \", url);\n      document.body.appendChild(element);\n    }\n\n    for (var i = 0; i < js_urls.length; i++) {\n      var url = js_urls[i];\n      var element = document.createElement('script');\n      element.onload = on_load;\n      element.onerror = on_error;\n      element.async = false;\n      element.src = url;\n      console.debug(\"Bokeh: injecting script tag for BokehJS library: \", url);\n      document.head.appendChild(element);\n    }\n  };var element = document.getElementById(\"1001\");\n  if (element == null) {\n    console.error(\"Bokeh: ERROR: autoload.js configured with elementid '1001' but no matching script tag was found. \")\n    return false;\n  }\n\n  function inject_raw_css(css) {\n    const element = document.createElement(\"style\");\n    element.appendChild(document.createTextNode(css));\n    document.body.appendChild(element);\n  }\n\n  \n  var js_urls = [\"https://cdn.pydata.org/bokeh/release/bokeh-1.4.0.min.js\", \"https://cdn.pydata.org/bokeh/release/bokeh-widgets-1.4.0.min.js\", \"https://cdn.pydata.org/bokeh/release/bokeh-tables-1.4.0.min.js\", \"https://cdn.pydata.org/bokeh/release/bokeh-gl-1.4.0.min.js\"];\n  var css_urls = [];\n  \n\n  var inline_js = [\n    function(Bokeh) {\n      Bokeh.set_log_level(\"info\");\n    },\n    function(Bokeh) {\n    \n    \n    }\n  ];\n\n  function run_inline_js() {\n    \n    if (root.Bokeh !== undefined || force === true) {\n      \n    for (var i = 0; i < inline_js.length; i++) {\n      inline_js[i].call(root, root.Bokeh);\n    }\n    if (force === true) {\n        display_loaded();\n      }} else if (Date.now() < root._bokeh_timeout) {\n      setTimeout(run_inline_js, 100);\n    } else if (!root._bokeh_failed_load) {\n      console.log(\"Bokeh: BokehJS failed to load within specified timeout.\");\n      root._bokeh_failed_load = true;\n    } else if (force !== true) {\n      var cell = $(document.getElementById(\"1001\")).parents('.cell').data().cell;\n      cell.output_area.append_execute_result(NB_LOAD_WARNING)\n    }\n\n  }\n\n  if (root._bokeh_is_loading === 0) {\n    console.debug(\"Bokeh: BokehJS loaded, going straight to plotting\");\n    run_inline_js();\n  } else {\n    load_libs(css_urls, js_urls, function() {\n      console.debug(\"Bokeh: BokehJS plotting callback run at\", now());\n      run_inline_js();\n    });\n  }\n}(window));",
            "application/vnd.bokehjs_load.v0+json": "\n(function(root) {\n  function now() {\n    return new Date();\n  }\n\n  var force = true;\n\n  if (typeof root._bokeh_onload_callbacks === \"undefined\" || force === true) {\n    root._bokeh_onload_callbacks = [];\n    root._bokeh_is_loading = undefined;\n  }\n\n  \n\n  \n  if (typeof (root._bokeh_timeout) === \"undefined\" || force === true) {\n    root._bokeh_timeout = Date.now() + 5000;\n    root._bokeh_failed_load = false;\n  }\n\n  var NB_LOAD_WARNING = {'data': {'text/html':\n     \"<div style='background-color: #fdd'>\\n\"+\n     \"<p>\\n\"+\n     \"BokehJS does not appear to have successfully loaded. If loading BokehJS from CDN, this \\n\"+\n     \"may be due to a slow or bad network connection. Possible fixes:\\n\"+\n     \"</p>\\n\"+\n     \"<ul>\\n\"+\n     \"<li>re-rerun `output_notebook()` to attempt to load from CDN again, or</li>\\n\"+\n     \"<li>use INLINE resources instead, as so:</li>\\n\"+\n     \"</ul>\\n\"+\n     \"<code>\\n\"+\n     \"from bokeh.resources import INLINE\\n\"+\n     \"output_notebook(resources=INLINE)\\n\"+\n     \"</code>\\n\"+\n     \"</div>\"}};\n\n  function display_loaded() {\n    var el = document.getElementById(\"1001\");\n    if (el != null) {\n      el.textContent = \"BokehJS is loading...\";\n    }\n    if (root.Bokeh !== undefined) {\n      if (el != null) {\n        el.textContent = \"BokehJS \" + root.Bokeh.version + \" successfully loaded.\";\n      }\n    } else if (Date.now() < root._bokeh_timeout) {\n      setTimeout(display_loaded, 100)\n    }\n  }\n\n\n  function run_callbacks() {\n    try {\n      root._bokeh_onload_callbacks.forEach(function(callback) {\n        if (callback != null)\n          callback();\n      });\n    } finally {\n      delete root._bokeh_onload_callbacks\n    }\n    console.debug(\"Bokeh: all callbacks have finished\");\n  }\n\n  function load_libs(css_urls, js_urls, callback) {\n    if (css_urls == null) css_urls = [];\n    if (js_urls == null) js_urls = [];\n\n    root._bokeh_onload_callbacks.push(callback);\n    if (root._bokeh_is_loading > 0) {\n      console.debug(\"Bokeh: BokehJS is being loaded, scheduling callback at\", now());\n      return null;\n    }\n    if (js_urls == null || js_urls.length === 0) {\n      run_callbacks();\n      return null;\n    }\n    console.debug(\"Bokeh: BokehJS not loaded, scheduling load and callback at\", now());\n    root._bokeh_is_loading = css_urls.length + js_urls.length;\n\n    function on_load() {\n      root._bokeh_is_loading--;\n      if (root._bokeh_is_loading === 0) {\n        console.debug(\"Bokeh: all BokehJS libraries/stylesheets loaded\");\n        run_callbacks()\n      }\n    }\n\n    function on_error() {\n      console.error(\"failed to load \" + url);\n    }\n\n    for (var i = 0; i < css_urls.length; i++) {\n      var url = css_urls[i];\n      const element = document.createElement(\"link\");\n      element.onload = on_load;\n      element.onerror = on_error;\n      element.rel = \"stylesheet\";\n      element.type = \"text/css\";\n      element.href = url;\n      console.debug(\"Bokeh: injecting link tag for BokehJS stylesheet: \", url);\n      document.body.appendChild(element);\n    }\n\n    for (var i = 0; i < js_urls.length; i++) {\n      var url = js_urls[i];\n      var element = document.createElement('script');\n      element.onload = on_load;\n      element.onerror = on_error;\n      element.async = false;\n      element.src = url;\n      console.debug(\"Bokeh: injecting script tag for BokehJS library: \", url);\n      document.head.appendChild(element);\n    }\n  };var element = document.getElementById(\"1001\");\n  if (element == null) {\n    console.error(\"Bokeh: ERROR: autoload.js configured with elementid '1001' but no matching script tag was found. \")\n    return false;\n  }\n\n  function inject_raw_css(css) {\n    const element = document.createElement(\"style\");\n    element.appendChild(document.createTextNode(css));\n    document.body.appendChild(element);\n  }\n\n  \n  var js_urls = [\"https://cdn.pydata.org/bokeh/release/bokeh-1.4.0.min.js\", \"https://cdn.pydata.org/bokeh/release/bokeh-widgets-1.4.0.min.js\", \"https://cdn.pydata.org/bokeh/release/bokeh-tables-1.4.0.min.js\", \"https://cdn.pydata.org/bokeh/release/bokeh-gl-1.4.0.min.js\"];\n  var css_urls = [];\n  \n\n  var inline_js = [\n    function(Bokeh) {\n      Bokeh.set_log_level(\"info\");\n    },\n    function(Bokeh) {\n    \n    \n    }\n  ];\n\n  function run_inline_js() {\n    \n    if (root.Bokeh !== undefined || force === true) {\n      \n    for (var i = 0; i < inline_js.length; i++) {\n      inline_js[i].call(root, root.Bokeh);\n    }\n    if (force === true) {\n        display_loaded();\n      }} else if (Date.now() < root._bokeh_timeout) {\n      setTimeout(run_inline_js, 100);\n    } else if (!root._bokeh_failed_load) {\n      console.log(\"Bokeh: BokehJS failed to load within specified timeout.\");\n      root._bokeh_failed_load = true;\n    } else if (force !== true) {\n      var cell = $(document.getElementById(\"1001\")).parents('.cell').data().cell;\n      cell.output_area.append_execute_result(NB_LOAD_WARNING)\n    }\n\n  }\n\n  if (root._bokeh_is_loading === 0) {\n    console.debug(\"Bokeh: BokehJS loaded, going straight to plotting\");\n    run_inline_js();\n  } else {\n    load_libs(css_urls, js_urls, function() {\n      console.debug(\"Bokeh: BokehJS plotting callback run at\", now());\n      run_inline_js();\n    });\n  }\n}(window));"
          },
          "metadata": {}
        },
        {
          "output_type": "display_data",
          "data": {
            "text/html": "\n\n\n\n\n\n  <div class=\"bk-root\" id=\"8e03fd8f-31a1-4ca4-a107-c6bd870917ff\" data-root-id=\"1002\"></div>\n"
          },
          "metadata": {}
        },
        {
          "output_type": "display_data",
          "data": {
            "application/javascript": "(function(root) {\n  function embed_document(root) {\n    \n  var docs_json = {\"fd05d822-5d9d-425f-b272-68c8dd58911d\":{\"roots\":{\"references\":[{\"attributes\":{\"below\":[{\"id\":\"1013\",\"type\":\"LinearAxis\"}],\"center\":[{\"id\":\"1017\",\"type\":\"Grid\"},{\"id\":\"1022\",\"type\":\"Grid\"}],\"left\":[{\"id\":\"1018\",\"type\":\"LinearAxis\"}],\"renderers\":[{\"id\":\"1039\",\"type\":\"GlyphRenderer\"}],\"title\":{\"id\":\"1003\",\"type\":\"Title\"},\"toolbar\":{\"id\":\"1029\",\"type\":\"Toolbar\"},\"x_range\":{\"id\":\"1005\",\"type\":\"DataRange1d\"},\"x_scale\":{\"id\":\"1009\",\"type\":\"LinearScale\"},\"y_range\":{\"id\":\"1007\",\"type\":\"DataRange1d\"},\"y_scale\":{\"id\":\"1011\",\"type\":\"LinearScale\"}},\"id\":\"1002\",\"subtype\":\"Figure\",\"type\":\"Plot\"},{\"attributes\":{\"axis_label\":\"kWh\",\"formatter\":{\"id\":\"1042\",\"type\":\"BasicTickFormatter\"},\"ticker\":{\"id\":\"1019\",\"type\":\"BasicTicker\"}},\"id\":\"1018\",\"type\":\"LinearAxis\"},{\"attributes\":{\"dimension\":1,\"ticker\":{\"id\":\"1019\",\"type\":\"BasicTicker\"}},\"id\":\"1022\",\"type\":\"Grid\"},{\"attributes\":{},\"id\":\"1047\",\"type\":\"UnionRenderers\"},{\"attributes\":{\"bottom_units\":\"screen\",\"fill_alpha\":{\"value\":0.5},\"fill_color\":{\"value\":\"lightgrey\"},\"left_units\":\"screen\",\"level\":\"overlay\",\"line_alpha\":{\"value\":1.0},\"line_color\":{\"value\":\"black\"},\"line_dash\":[4,4],\"line_width\":{\"value\":2},\"render_mode\":\"css\",\"right_units\":\"screen\",\"top_units\":\"screen\"},\"id\":\"1048\",\"type\":\"BoxAnnotation\"},{\"attributes\":{\"data_source\":{\"id\":\"1036\",\"type\":\"ColumnDataSource\"},\"glyph\":{\"id\":\"1037\",\"type\":\"Line\"},\"hover_glyph\":null,\"muted_glyph\":null,\"nonselection_glyph\":{\"id\":\"1038\",\"type\":\"Line\"},\"selection_glyph\":null,\"view\":{\"id\":\"1040\",\"type\":\"CDSView\"}},\"id\":\"1039\",\"type\":\"GlyphRenderer\"},{\"attributes\":{\"line_alpha\":0.1,\"line_color\":\"#1f77b4\",\"line_width\":2,\"x\":{\"field\":\"x\"},\"y\":{\"field\":\"y\"}},\"id\":\"1038\",\"type\":\"Line\"},{\"attributes\":{\"text\":\"Erdgasverkauf insgesamt in Mill kWh\"},\"id\":\"1003\",\"type\":\"Title\"},{\"attributes\":{},\"id\":\"1011\",\"type\":\"LinearScale\"},{\"attributes\":{},\"id\":\"1023\",\"type\":\"PanTool\"},{\"attributes\":{},\"id\":\"1024\",\"type\":\"WheelZoomTool\"},{\"attributes\":{\"overlay\":{\"id\":\"1048\",\"type\":\"BoxAnnotation\"}},\"id\":\"1025\",\"type\":\"BoxZoomTool\"},{\"attributes\":{\"active_drag\":\"auto\",\"active_inspect\":\"auto\",\"active_multi\":null,\"active_scroll\":\"auto\",\"active_tap\":\"auto\",\"tools\":[{\"id\":\"1023\",\"type\":\"PanTool\"},{\"id\":\"1024\",\"type\":\"WheelZoomTool\"},{\"id\":\"1025\",\"type\":\"BoxZoomTool\"},{\"id\":\"1026\",\"type\":\"SaveTool\"},{\"id\":\"1027\",\"type\":\"ResetTool\"},{\"id\":\"1028\",\"type\":\"HelpTool\"}]},\"id\":\"1029\",\"type\":\"Toolbar\"},{\"attributes\":{},\"id\":\"1026\",\"type\":\"SaveTool\"},{\"attributes\":{},\"id\":\"1009\",\"type\":\"LinearScale\"},{\"attributes\":{},\"id\":\"1027\",\"type\":\"ResetTool\"},{\"attributes\":{},\"id\":\"1028\",\"type\":\"HelpTool\"},{\"attributes\":{},\"id\":\"1014\",\"type\":\"BasicTicker\"},{\"attributes\":{\"callback\":null},\"id\":\"1007\",\"type\":\"DataRange1d\"},{\"attributes\":{\"axis_label\":\"Year\",\"formatter\":{\"id\":\"1044\",\"type\":\"BasicTickFormatter\"},\"ticker\":{\"id\":\"1014\",\"type\":\"BasicTicker\"}},\"id\":\"1013\",\"type\":\"LinearAxis\"},{\"attributes\":{},\"id\":\"1044\",\"type\":\"BasicTickFormatter\"},{\"attributes\":{\"callback\":null},\"id\":\"1005\",\"type\":\"DataRange1d\"},{\"attributes\":{\"ticker\":{\"id\":\"1014\",\"type\":\"BasicTicker\"}},\"id\":\"1017\",\"type\":\"Grid\"},{\"attributes\":{},\"id\":\"1042\",\"type\":\"BasicTickFormatter\"},{\"attributes\":{\"source\":{\"id\":\"1036\",\"type\":\"ColumnDataSource\"}},\"id\":\"1040\",\"type\":\"CDSView\"},{\"attributes\":{\"callback\":null,\"data\":{\"x\":[1994,1995,1996,1997,1998,1999,2000,2001,2002,2003,2004,2005,2006,2007,2008,2009,2010,2011,2012,2013,2014,2015,2016,2017],\"y\":[4804,5052,5636,4943,4942,4639,4478,4803,4869,5109,5152,4882,4766,4490,4746,4462,4980,4485,4672,4855,4022,4484,4808,4838]},\"selected\":{\"id\":\"1046\",\"type\":\"Selection\"},\"selection_policy\":{\"id\":\"1047\",\"type\":\"UnionRenderers\"}},\"id\":\"1036\",\"type\":\"ColumnDataSource\"},{\"attributes\":{\"line_color\":\"#1f77b4\",\"line_width\":2,\"x\":{\"field\":\"x\"},\"y\":{\"field\":\"y\"}},\"id\":\"1037\",\"type\":\"Line\"},{\"attributes\":{},\"id\":\"1019\",\"type\":\"BasicTicker\"},{\"attributes\":{},\"id\":\"1046\",\"type\":\"Selection\"}],\"root_ids\":[\"1002\"]},\"title\":\"Bokeh Application\",\"version\":\"1.4.0\"}};\n  var render_items = [{\"docid\":\"fd05d822-5d9d-425f-b272-68c8dd58911d\",\"roots\":{\"1002\":\"8e03fd8f-31a1-4ca4-a107-c6bd870917ff\"}}];\n  root.Bokeh.embed.embed_items_notebook(docs_json, render_items);\n\n  }\n  if (root.Bokeh !== undefined) {\n    embed_document(root);\n  } else {\n    var attempts = 0;\n    var timer = setInterval(function(root) {\n      if (root.Bokeh !== undefined) {\n        clearInterval(timer);\n        embed_document(root);\n      } else {\n        attempts++;\n        if (attempts > 100) {\n          clearInterval(timer);\n          console.log(\"Bokeh: ERROR: Unable to run BokehJS code because BokehJS library is missing\");\n        }\n      }\n    }, 10, root)\n  }\n})(window);",
            "application/vnd.bokehjs_exec.v0+json": ""
          },
          "metadata": {
            "application/vnd.bokehjs_exec.v0+json": {
              "id": "1002"
            }
          }
        }
      ]
    }
  ],
  "metadata": {
    "kernelspec": {
      "name": "python_defaultSpec_1606453216789",
      "display_name": "Python 3.7.6 64-bit ('anaconda3': virtualenv)",
      "language": "python"
    },
    "language_info": {
      "mimetype": "text/x-python",
      "nbconvert_exporter": "python",
      "name": "python",
      "pygments_lexer": "ipython3",
      "version": "3.7.6-final",
      "file_extension": ".py",
      "codemirror_mode": {
        "version": 3,
        "name": "ipython"
      }
    },
    "varInspector": {
      "window_display": false,
      "cols": {
        "lenName": 16,
        "lenType": 16,
        "lenVar": 40
      },
      "kernels_config": {
        "python": {
          "library": "var_list.py",
          "delete_cmd_prefix": "del ",
          "delete_cmd_postfix": "",
          "varRefreshCmd": "print(var_dic_list())"
        },
        "r": {
          "library": "var_list.r",
          "delete_cmd_prefix": "rm(",
          "delete_cmd_postfix": ") ",
          "varRefreshCmd": "cat(var_dic_list()) "
        }
      },
      "types_to_exclude": [
        "module",
        "function",
        "builtin_function_or_method",
        "instance",
        "_Feature"
      ]
    }
  },
  "nbformat": 4,
  "nbformat_minor": 2
}