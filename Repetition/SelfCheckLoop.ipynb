{
  "cells": [
    {
      "metadata": {
        "trusted": true
      },
      "cell_type": "code",
      "source": "%run Init.ipynb\n%run CheckLoop.py\nfrom ipywidgets import Button\nb = Button(description=\"Grade\")\ndef click(b):\n    if (\"cellFor\" in globals()):\n        grade(b, cellFor)\n    else:\n        print (\"Execute your cell first\")\nb.on_click(click)\nb",
      "execution_count": 2,
      "outputs": [
        {
          "output_type": "display_data",
          "data": {
            "application/vnd.jupyter.widget-view+json": {
              "model_id": "ff7accc0012c4f5194605674a1abd37f",
              "version_minor": 0,
              "version_major": 2
            },
            "text/plain": "Button(description='Grade', style=ButtonStyle())"
          },
          "metadata": {}
        }
      ]
    },
    {
      "metadata": {},
      "cell_type": "markdown",
      "source": "# Loops\n## General\nIn python there are two different kind of loops:\n`for` an `while`\nWith a `for` loop you can execute code for a fixed set of times, whereas the `while` loop allows you to execute your code more flexible.\n## For Loop"
    },
    {
      "metadata": {
        "trusted": true
      },
      "cell_type": "code",
      "source": "%%non_suppressing_capture cellFor\nfor x in range(11):\n    print (x)",
      "execution_count": 6,
      "outputs": [
        {
          "output_type": "stream",
          "text": "0\n1\n2\n3\n4\n5\n6\n7\n8\n9\n10\n",
          "name": "stdout"
        }
      ]
    },
    {
      "metadata": {},
      "cell_type": "markdown",
      "source": "## Exercise\nChange the above loop to print up until 10"
    }
  ],
  "metadata": {
    "kernelspec": {
      "name": "python36",
      "display_name": "Python 3.6",
      "language": "python"
    },
    "varInspector": {
      "window_display": false,
      "cols": {
        "lenName": 16,
        "lenType": 16,
        "lenVar": 40
      },
      "kernels_config": {
        "python": {
          "library": "var_list.py",
          "delete_cmd_prefix": "del ",
          "delete_cmd_postfix": "",
          "varRefreshCmd": "print(var_dic_list())"
        },
        "r": {
          "library": "var_list.r",
          "delete_cmd_prefix": "rm(",
          "delete_cmd_postfix": ") ",
          "varRefreshCmd": "cat(var_dic_list()) "
        }
      },
      "types_to_exclude": [
        "module",
        "function",
        "builtin_function_or_method",
        "instance",
        "_Feature"
      ]
    }
  },
  "nbformat": 4,
  "nbformat_minor": 2
}