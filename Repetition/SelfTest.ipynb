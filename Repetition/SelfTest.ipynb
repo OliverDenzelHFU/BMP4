{
  "cells": [
    {
      "metadata": {
        "collapsed": true
      },
      "cell_type": "markdown",
      "source": "# Self Test"
    },
    {
      "metadata": {
        "trusted": true
      },
      "cell_type": "code",
      "source": "# Utils widgets\nfrom ipywidgets import HBox, VBox, Button, Label, Checkbox, Text, IntSlider\n\nscratchheader = Label(value=\"Scratch\")\npythonheader = Label(value=\"Python\")\ndocumentationheader = Label(value=\"Documentation\")\nscratchHasCondition = Checkbox(description=\"Has Condition\")\nscratchHasLoop = Checkbox(description=\"Has Loop\")\nscratchHasMethod = Checkbox(description=\"Has Method\")\nscratchHasList = Checkbox(description=\"Has List\")\n\npythonHasCondition = Checkbox(description=\"Has Condition\")\npythonHasLoop      = Checkbox(description=\"Has Loop\")\npythonHasMethod    = Checkbox(description=\"Has Method\")\npythonHasList      = Checkbox(description=\"Has List\")\npythonHasObject      = Checkbox(description=\"Has Object\")\npythonHasModule      = Checkbox(description=\"Has Module\")\n\ndocumentationPages = IntSlider(description=\"No of pages\")\ndocumentationHasHours = Checkbox(description=\"Has Number of Hours\")\ndocumentationHasScreenshots = Checkbox(description=\"Has Screenshots\")\n\nb = Button(description=\"Grade\")\nscratch = VBox([scratchheader, scratchHasCondition, scratchHasLoop, scratchHasMethod, scratchHasList])\npython = VBox([pythonheader, pythonHasCondition,pythonHasLoop,     pythonHasMethod,   pythonHasList, pythonHasObject, pythonHasModule])\ndocumentation = VBox([documentationheader, documentationPages, documentationHasHours, documentationHasScreenshots])\ngrades = HBox([scratch,python,documentation])\npassNotPass = Text(description=\"Pass?\")\nallControls = VBox([grades,b, passNotPass])\n\ndef grade(b):\n    if not(scratchHasCondition.value and scratchHasList.value and scratchHasLoop.value and scratchHasMethod.value):\n        passNotPass.value = \"Not Pass (Scratch)\"\n    elif not(pythonHasCondition.value and pythonHasList.value and pythonHasLoop.value and pythonHasMethod.value and pythonHasModule.value and pythonHasObject.value):\n        passNotPass.value = \"Not Pass (Python)\"\n    elif not(documentationPages.value > 10 and documentationPages.value < 30 and documentationHasHours.value and documentationHasScreenshots.value):\n        passNotPass.value = \"Not Pass (Documentation)\"\n    else:\n        passNotPass.value = \"Pass\"\nb.on_click(grade)\n\n\nallControls",
      "execution_count": 1,
      "outputs": [
        {
          "output_type": "display_data",
          "data": {
            "application/vnd.jupyter.widget-view+json": {
              "model_id": "1160ff12e1dd43b68b0930b10bbfc2cd",
              "version_minor": 0,
              "version_major": 2
            },
            "text/plain": "VBox(children=(HBox(children=(VBox(children=(Label(value='Scratch'), Checkbox(value=False, description='Has Co…"
          },
          "metadata": {}
        }
      ]
    },
    {
      "metadata": {
        "trusted": true
      },
      "cell_type": "code",
      "source": "",
      "execution_count": null,
      "outputs": []
    }
  ],
  "metadata": {
    "kernelspec": {
      "name": "python36",
      "display_name": "Python 3.6",
      "language": "python"
    },
    "varInspector": {
      "window_display": false,
      "cols": {
        "lenName": 16,
        "lenType": 16,
        "lenVar": 40
      },
      "kernels_config": {
        "python": {
          "library": "var_list.py",
          "delete_cmd_prefix": "del ",
          "delete_cmd_postfix": "",
          "varRefreshCmd": "print(var_dic_list())"
        },
        "r": {
          "library": "var_list.r",
          "delete_cmd_prefix": "rm(",
          "delete_cmd_postfix": ") ",
          "varRefreshCmd": "cat(var_dic_list()) "
        }
      },
      "types_to_exclude": [
        "module",
        "function",
        "builtin_function_or_method",
        "instance",
        "_Feature"
      ]
    },
    "language_info": {
      "mimetype": "text/x-python",
      "nbconvert_exporter": "python",
      "name": "python",
      "pygments_lexer": "ipython3",
      "version": "3.6.6",
      "file_extension": ".py",
      "codemirror_mode": {
        "version": 3,
        "name": "ipython"
      }
    }
  },
  "nbformat": 4,
  "nbformat_minor": 2
}