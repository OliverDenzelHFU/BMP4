{
  "cells": [
    {
      "metadata": {},
      "cell_type": "markdown",
      "source": [
        "# Working with variables\n",
        "## Neccessary import - can be ignored"
      ]
    },
    {
      "metadata": {
        "trusted": true
      },
      "cell_type": "code",
      "source": [
        "from ipywidgets import interact\n",
        "import ipywidgets as widgets\n",
        "import math"
      ],
      "execution_count": 31,
      "outputs": []
    },
    {
      "cell_type": "markdown",
      "metadata": {},
      "source": [
        "## Output with print\n",
        "Using `print` you can output all values from inside your python script. You can have as many `print` calls you want.\n",
        "\n",
        " Output with print\n",
        "Using `print` you can output all values from inside your python script. You can have as many `print` calls you want.\n",
        "\n",
        "If you want to output more than one value you can either call `print` twice or separate the two values using a comma (',')."
      ]
    },
    {
      "cell_type": "code",
      "execution_count": 30,
      "metadata": {
        "tags": []
      },
      "outputs": [
        {
          "output_type": "stream",
          "name": "stdout",
          "text": "Fixed text\nTwo fixed texts.\n"
        }
      ],
      "source": [
        "print (\"Fixed text\")\n",
        "print (\"Two\", \"fixed texts.\")"
      ]
    },
    {
      "metadata": {},
      "cell_type": "markdown",
      "source": [
        "## Different kinds of variables\n",
        "\n",
        "Type | Example | Use case \n",
        "--- | --- | --- \n",
        "integer | `step` | Counting things \n",
        "float | `pi` | Sensor measurements\n",
        "boolean | `readout` | Choose Values\n",
        "string | `greeting` | Text\n",
        "\n",
        "The type function returns the type of the value you pass in. In python you the type of a variable depends on its content and can change at runtime. (See example piText)"
      ]
    },
    {
      "metadata": {
        "trusted": true,
        "tags": []
      },
      "cell_type": "code",
      "source": [
        "step = 10\n",
        "readout = True\n",
        "greeting = \"Hello World\"\n",
        "piText = \"3,1415\"\n",
        "print (type(step), step)\n",
        "print (type(readout), readout)\n",
        "print (type(math.pi), math.pi)\n",
        "print (type(greeting), greeting)\n",
        "print (type(piText), piText)\n",
        "piText = math.pi\n",
        "print (type(piText), piText)"
      ],
      "execution_count": 33,
      "outputs": [
        {
          "output_type": "stream",
          "name": "stdout",
          "text": "<class 'int'> 10\n<class 'bool'> True\n<class 'float'> 3.141592653589793\n<class 'str'> Hello World\n<class 'str'> 3,1415\n<class 'float'> 3.141592653589793\n"
        }
      ]
    },
    {
      "cell_type": "markdown",
      "metadata": {},
      "source": [
        "## Calulation\n",
        "Using the basic operators you can calulate in python. So you can e.g. multiply a fixed value with a variable. (Example Walking distance, assumed your stride is 60 centimeters)\n",
        "\n",
        "Results of the calculations can be stored in variables."
      ]
    },
    {
      "cell_type": "code",
      "execution_count": 38,
      "metadata": {
        "tags": []
      },
      "outputs": [
        {
          "output_type": "stream",
          "name": "stdout",
          "text": "You walked 600 Centimeters.\n6.0\n"
        }
      ],
      "source": [
        "print (\"You walked\", step * 60, \"Centimeters.\")\n",
        "walkingDistanceInMeters = step*60/100\n",
        "print (walkingDistanceInMeters)"
      ]
    },
    {
      "cell_type": "markdown",
      "metadata": {},
      "source": [
        "## Text manipulation\n",
        "Using the `+` operator you can concatenate texts in python, using `*` you can show your text multiple times."
      ]
    },
    {
      "cell_type": "code",
      "execution_count": 39,
      "metadata": {
        "tags": []
      },
      "outputs": [
        {
          "output_type": "stream",
          "name": "stdout",
          "text": "Hello World 10 steps today.\nHello World 10 steps today.Hello World 10 steps today.Hello World 10 steps today.\n"
        }
      ],
      "source": [
        "completeGreeting = greeting + \" \" + str(step) + \" steps today.\"\n",
        "print (completeGreeting)\n",
        "print(completeGreeting*3)"
      ]
    },
    {
      "metadata": {},
      "cell_type": "markdown",
      "source": [
        "## Definition of a method"
      ]
    },
    {
      "metadata": {
        "trusted": true
      },
      "cell_type": "code",
      "source": [
        "def calculate(baseweight, height, weight):\n",
        "    idealBodyWeight = baseweight + 0.9 * (height - 152)\n",
        "    adjustedBodyWeight = idealBodyWeight + (0.4*(weight - idealBodyWeight))\n",
        "    resultText = \"Your adjusted body weight is: \" + str(adjustedBodyWeight) + \" kg\"\n",
        "    return resultText"
      ],
      "execution_count": 4,
      "outputs": []
    },
    {
      "metadata": {},
      "cell_type": "markdown",
      "source": [
        "## Call with interact"
      ]
    },
    {
      "metadata": {
        "trusted": true
      },
      "cell_type": "code",
      "source": [
        "heightcontrol = widgets.IntSlider(min=140,max=230,step=step,readout=readout)\n",
        "result = interact(calculate, baseweight=[(\"Male\",50),(\"Female\",45.5)], height=heightcontrol, weight=(40,150,step))"
      ],
      "execution_count": 5,
      "outputs": [
        {
          "output_type": "display_data",
          "data": {
            "text/plain": "interactive(children=(Dropdown(description='baseweight', options=(('Male', 50), ('Female', 45.5)), value=50), …",
            "application/vnd.jupyter.widget-view+json": {
              "version_major": 2,
              "version_minor": 0,
              "model_id": "dbdc290bb6be4b82b1efe8833e542286"
            }
          },
          "metadata": {}
        }
      ]
    },
    {
      "metadata": {
        "trusted": true
      },
      "cell_type": "code",
      "source": [],
      "execution_count": null,
      "outputs": []
    }
  ],
  "metadata": {
    "kernelspec": {
      "name": "python_defaultSpec_1603139118102",
      "display_name": "Python 3.7.6 64-bit ('base': conda)",
      "language": "python"
    },
    "language_info": {
      "mimetype": "text/x-python",
      "nbconvert_exporter": "python",
      "name": "python",
      "pygments_lexer": "ipython3",
      "version": "3.7.6-final",
      "file_extension": ".py",
      "codemirror_mode": {
        "version": 3,
        "name": "ipython"
      }
    }
  },
  "nbformat": 4,
  "nbformat_minor": 2
}