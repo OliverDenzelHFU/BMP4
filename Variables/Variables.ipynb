{
  "cells": [
    {
      "metadata": {},
      "cell_type": "markdown",
      "source": "# Working with variables\n## Neccessary import"
    },
    {
      "metadata": {
        "trusted": true
      },
      "cell_type": "code",
      "source": "from ipywidgets import interact\nimport ipywidgets as widgets",
      "execution_count": 5,
      "outputs": []
    },
    {
      "metadata": {},
      "cell_type": "markdown",
      "source": "## Examples for different kinds of variables\nstep is a integer value (number without a fraction)\nreadout is a boolean value (either true or false)"
    },
    {
      "metadata": {
        "trusted": true
      },
      "cell_type": "code",
      "source": "step = 10\nreadout = True",
      "execution_count": 2,
      "outputs": []
    },
    {
      "metadata": {},
      "cell_type": "markdown",
      "source": "## Definition of a method"
    },
    {
      "metadata": {
        "trusted": true
      },
      "cell_type": "code",
      "source": "def calculate(baseweight, height, weight):\n    idealBodyWeight = baseweight + 0.9 * (height - 152)\n    adjustedBodyWeight = idealBodyWeight + (0.4*(weight - idealBodyWeight))\n    resultText = \"Your adjusted body weight is: \" + str(adjustedBodyWeight) + \" kg\"\n    return resultText",
      "execution_count": 3,
      "outputs": []
    },
    {
      "metadata": {},
      "cell_type": "markdown",
      "source": "## Call with interact"
    },
    {
      "metadata": {
        "trusted": true
      },
      "cell_type": "code",
      "source": "heightcontrol = widgets.IntSlider(min=140,max=230,step=step,readout=readout)\nresult = interact(calculate, baseweight=[(\"Male\",50),(\"Female\",45.5)], height=heightcontrol, weight=(40,150,step))",
      "execution_count": 6,
      "outputs": [
        {
          "output_type": "display_data",
          "data": {
            "application/vnd.jupyter.widget-view+json": {
              "model_id": "ead2b1db3a03470f8eeed53e4a751037",
              "version_minor": 0,
              "version_major": 2
            },
            "text/plain": "interactive(children=(Dropdown(description='baseweight', options=(('Male', 50), ('Female', 45.5)), value=50), …"
          },
          "metadata": {}
        }
      ]
    },
    {
      "metadata": {
        "trusted": true
      },
      "cell_type": "code",
      "source": "",
      "execution_count": null,
      "outputs": []
    }
  ],
  "metadata": {
    "kernelspec": {
      "name": "python36",
      "display_name": "Python 3.6",
      "language": "python"
    },
    "language_info": {
      "mimetype": "text/x-python",
      "nbconvert_exporter": "python",
      "name": "python",
      "pygments_lexer": "ipython3",
      "version": "3.6.6",
      "file_extension": ".py",
      "codemirror_mode": {
        "version": 3,
        "name": "ipython"
      }
    }
  },
  "nbformat": 4,
  "nbformat_minor": 2
}